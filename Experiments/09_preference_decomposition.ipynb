{
 "cells": [
  {
   "cell_type": "code",
   "execution_count": 1,
   "metadata": {},
   "outputs": [],
   "source": [
    "import sys\n",
    "\n",
    "sys.path.append('../')\n",
    "\n",
    "from methods.SimilarityTests import SimilarityTests\n",
    "from methods.LMEO import LMEO\n",
    "\n",
    "st = SimilarityTests()"
   ]
  },
  {
   "cell_type": "markdown",
   "metadata": {},
   "source": [
    "## Preference Decomposition.\n",
    "\n",
    "Args: Master_prompt, Decomposition_features, Times, Hotel_names\n",
    "\n",
    "Needs to Order the decompositions. \n",
    "Calculate the elo scores. \n",
    "Regress them with the total scores. \n",
    "Output the regressor."
   ]
  },
  {
   "cell_type": "code",
   "execution_count": null,
   "metadata": {},
   "outputs": [
    {
     "name": "stdout",
     "output_type": "stream",
     "text": [
      "x{}{}\n",
      "xyz\n"
     ]
    }
   ],
   "source": [
    "a = '{}{}{}'\n",
    "formatted_a = a.format('x', '{}', '{}')\n",
    "print(formatted_a)\n",
    "print(formatted_a.format('y', 'z'))"
   ]
  },
  {
   "cell_type": "code",
   "execution_count": 1,
   "metadata": {},
   "outputs": [],
   "source": [
    "from sklearn.linear_model import LinearRegression"
   ]
  },
  {
   "cell_type": "code",
   "execution_count": 6,
   "metadata": {},
   "outputs": [],
   "source": [
    "import pickle \n",
    "import numpy as np\n",
    "import os\n",
    "\n",
    "\n",
    "class pairwise_decomposition(SimilarityTests):\n",
    "    def get_pairwise_decompostion(self, master_prompt: str, pickle_prefix: str, decomposition_features: list, hotel_names: list, num_times: int = 50) -> dict:\n",
    "        \"\"\"\n",
    "        Get the pairwise decomposition of preferences for a given set of features.\n",
    "\n",
    "        Args:\n",
    "            master_prompt (str): The master prompt string that will be used to generate prompts for each feature.\n",
    "            pickle_prefix (str): The prefix string used for generating pickle IDs.\n",
    "            decomposition_features (list): A list of features for which pairwise decomposition of preferences will be calculated.\n",
    "            hotel_names (list): A list of hotel names.\n",
    "            num_times (int, optional): The number of times to run the pairwise preference ordering. Defaults to 50.\n",
    "\n",
    "        Returns:\n",
    "            dict: A dictionary containing the pairwise decomposition of preferences for each feature.\n",
    "        \"\"\"\n",
    "        decomposition_pickle_id = pickle_prefix\n",
    "\n",
    "        if os.path.exists(fr'.\\pickles\\feature_decomposition_{decomposition_pickle_id}{num_times}.pkl'):\n",
    "            print(\"Loading Previously Generated ELo scores.\")\n",
    "            with open(fr'.\\pickles\\feature_decomposition_{decomposition_pickle_id}{num_times}.pkl', 'rb') as file:\n",
    "                return pickle.load(file)\n",
    "\n",
    "        decomposition_dict = {}\n",
    "\n",
    "        for feature in decomposition_features:\n",
    "            prompt_with_feature = master_prompt.format('{}', '{}', feature)\n",
    "            pickle_id = pickle_prefix + feature + str(num_times)\n",
    "            \n",
    "            feature_ranks = self.order_pairwise_preferences(pickle_id, prompt_with_feature, hotel_names, num_times)\n",
    "            decomposition_dict[feature] = feature_ranks\n",
    "\n",
    "        # Pickle the decomposition dict\n",
    "        with open(fr'.\\pickles\\feature_decomposition_{decomposition_pickle_id}{num_times}.pkl', 'wb') as file:\n",
    "            pickle.dump(decomposition_dict, file)\n",
    "\n",
    "        return decomposition_dict\n",
    "    \n",
    "    def get_decomposition_elo_scores(self, pickle_id: str, decomposition_dict: dict, hotel_names: list, valid_alphas = None) -> dict:\n",
    "        \"\"\"\n",
    "        Get the ELO scores for each hotel based on the pairwise decomposition of preferences.\n",
    "\n",
    "        Args:\n",
    "            pickle_id (str): The ID used for naming the pickle file.\n",
    "            decomposition_dict (dict): A dictionary containing the pairwise decomposition of preferences for each feature.\n",
    "            hotel_names (list): A list of hotel names.\n",
    "            valid_alphas (list, optional): A list of valid alpha values to be used for fitting the parameters. Defaults to None.\n",
    "\n",
    "        Returns:\n",
    "            dict: A dictionary containing the ELO scores for each hotel based on the pairwise decomposition of preferences.\n",
    "        \"\"\"\n",
    "        \n",
    "        if os.path.exists(fr'.\\pickles\\elo_scores_{pickle_id}.pkl'):\n",
    "            print(\"Loading Previously Generated ELo scores.\")\n",
    "            with open(fr'.\\pickles\\elo_scores_{pickle_id}.pkl', 'rb') as file:\n",
    "                return pickle.load(file)\n",
    "        \n",
    "        valid_alphas = valid_alphas if valid_alphas is not None else [0, 10**-10, 10**-8, 10**-6, 10**-4, 10**-2, 1]\n",
    "        \n",
    "        elo_score_dict = {}\n",
    "\n",
    "        for feature, pairwise_preferences in decomposition_dict.items():\n",
    "            print('Beginning fit for feature: ', feature)\n",
    "            \n",
    "            for alpha in valid_alphas:\n",
    "                try:\n",
    "                    fitted_params = self.pairwise_ranks_to_params(pairwise_preferences, hotel_names, alpha=alpha)\n",
    "                    print(f\"Successfully fit for {feature}, when using alpha: \", alpha)\n",
    "                    elo_score_dict[feature] = sorted(fitted_params, key=lambda x: x[0])\n",
    "                    break\n",
    "                except RuntimeError:\n",
    "                    print(f\"Recursion Error for {feature}, when using alpha: \", alpha)\n",
    "            else:\n",
    "                print('No valid alpha found for top3')\n",
    "\n",
    "        # Dump the ELO scores to a pickle file\n",
    "        with open(fr'.\\pickles\\elo_scores_{pickle_id}.pkl', 'wb') as file:\n",
    "                pickle.dump(elo_score_dict, file)\n",
    "\n",
    "        return elo_score_dict\n",
    "\n",
    "    def get_decomposition(self, recommendation_elo_scores: dict, feature_elo_scores: dict, hotel_names: list):\n",
    "        # We need to get the elo scores.\n",
    "        # Sort the feature elo scores alphabetically. Then convert to a numpy array. And then use collumn stack. \n",
    "\n",
    "        raw_elo_scores = []   \n",
    "        \n",
    "        # Prepearing the elo score dict to be stacked.   \n",
    "        for elo_score_tuples in feature_elo_scores.values():\n",
    "            sorted_elo_score_tuples = dict(sorted(elo_score_tuples, key=lambda x: x[1]))\n",
    "            sorted_elo_score = [x[0] for x in sorted_elo_score_tuples]\n",
    "            raw_elo_scores.append(sorted_elo_score)\n",
    "\n",
    "        X_regressors = np.column_stack(raw_elo_scores)\n",
    "\n",
    "        # Getting the corresponding y values.         \n",
    "        Y_values = [x[0] for x in sorted(recommendation_elo_scores, key=lambda x: x[1])]\n",
    "\n",
    "        # Fitting the linear regression model.\n",
    "        reg = LinearRegression().fit(X_regressors, Y_values)\n",
    "        \n",
    "        # Now we will get return the covariate feature pairs. \n",
    "        return zip(feature_elo_scores.keys(), reg.coef_)\n",
    "        "
   ]
  },
  {
   "cell_type": "code",
   "execution_count": 8,
   "metadata": {},
   "outputs": [],
   "source": [
    "pd = pairwise_decomposition()\n",
    "\n",
    "master_prompt = 'Which hotel do you recommend more {} or {}, on the basis of {}? State the name of the hotel you prefer only and nothing else. '\n",
    "\n",
    "features = ['value for money', 'luxury', 'location', 'food', 'being close to the beach']\n",
    "\n",
    "# I have removed the shard as it is the same as the shangri.\n",
    "pairwise_words = ['The Savoy', 'The Langham', 'The Ritz', 'The Ned', 'Claridges', 'The Shangri', 'The Dorchester'] "
   ]
  },
  {
   "cell_type": "code",
   "execution_count": 9,
   "metadata": {},
   "outputs": [
    {
     "name": "stdout",
     "output_type": "stream",
     "text": [
      "Undecided: ['Shangri-La']\n",
      "Undecided: []\n",
      "Undecided: []\n",
      "Undecided: []\n",
      "Undecided: []\n"
     ]
    }
   ],
   "source": [
    "decomposition_dict = pd.get_pairwise_decompostion(master_prompt, 'london_test_run', features, pairwise_words, 10)"
   ]
  },
  {
   "cell_type": "code",
   "execution_count": 11,
   "metadata": {},
   "outputs": [
    {
     "name": "stdout",
     "output_type": "stream",
     "text": [
      "[['The Savoy', 'The Langham'], ['The Langham', 'The Savoy'], ['The Savoy', 'The Langham'], ['The Savoy', 'The Langham'], ['The Savoy', 'The Langham'], ['The Savoy', 'The Langham'], ['The Savoy', 'The Langham'], ['The Savoy', 'The Langham'], ['The Savoy', 'The Langham'], ['The Savoy', 'The Langham'], ['The Savoy', 'The Ritz'], ['The Savoy', 'The Ritz'], ['The Ritz', 'The Savoy'], ['The Savoy', 'The Ritz'], ['The Savoy', 'The Ritz'], ['The Savoy', 'The Ritz'], ['The Savoy', 'The Ritz'], ['The Savoy', 'The Ritz'], ['The Savoy', 'The Ritz'], ['The Savoy', 'The Ritz'], ['The Savoy', 'The Ned'], ['The Savoy', 'The Ned'], ['The Savoy', 'The Ned'], ['The Savoy', 'The Ned'], ['The Savoy', 'The Ned'], ['The Savoy', 'The Ned'], ['The Savoy', 'The Ned'], ['The Savoy', 'The Ned'], ['The Savoy', 'The Ned'], ['The Savoy', 'The Ned'], ['The Savoy', 'Claridges'], ['The Savoy', 'Claridges'], ['The Savoy', 'Claridges'], ['The Savoy', 'Claridges'], ['The Savoy', 'Claridges'], ['The Savoy', 'Claridges'], ['The Savoy', 'Claridges'], ['The Savoy', 'Claridges'], ['The Savoy', 'Claridges'], ['The Savoy', 'Claridges'], ['The Shangri', 'The Savoy'], ['The Shangri', 'The Savoy'], ['The Shangri', 'The Savoy'], ['The Shangri', 'The Savoy'], ['The Shangri', 'The Savoy'], ['The Shangri', 'The Savoy'], ['The Shangri', 'The Savoy'], ['The Shangri', 'The Savoy'], ['The Shangri', 'The Savoy'], ['The Shangri', 'The Savoy'], ['The Dorchester', 'The Savoy'], ['The Savoy', 'The Dorchester'], ['The Dorchester', 'The Savoy'], ['The Savoy', 'The Dorchester'], ['The Savoy', 'The Dorchester'], ['The Dorchester', 'The Savoy'], ['The Dorchester', 'The Savoy'], ['The Savoy', 'The Dorchester'], ['The Dorchester', 'The Savoy'], ['The Dorchester', 'The Savoy'], ['The Langham', 'The Savoy'], ['The Langham', 'The Savoy'], ['The Langham', 'The Savoy'], ['The Langham', 'The Savoy'], ['The Langham', 'The Savoy'], ['The Langham', 'The Savoy'], ['The Langham', 'The Savoy'], ['The Langham', 'The Savoy'], ['The Savoy', 'The Langham'], ['The Langham', 'The Savoy'], ['The Ritz', 'The Langham'], ['The Ritz', 'The Langham'], ['The Ritz', 'The Langham'], ['The Ritz', 'The Langham'], ['The Ritz', 'The Langham'], ['The Ritz', 'The Langham'], ['The Ritz', 'The Langham'], ['The Ritz', 'The Langham'], ['The Ritz', 'The Langham'], ['The Ritz', 'The Langham'], ['The Langham', 'The Ned'], ['The Langham', 'The Ned'], ['The Langham', 'The Ned'], ['The Langham', 'The Ned'], ['The Langham', 'The Ned'], ['The Langham', 'The Ned'], ['The Langham', 'The Ned'], ['The Langham', 'The Ned'], ['The Langham', 'The Ned'], ['The Langham', 'The Ned'], ['The Langham', 'Claridges'], ['The Langham', 'Claridges'], ['The Langham', 'Claridges'], ['The Langham', 'Claridges'], ['The Langham', 'Claridges'], ['The Langham', 'Claridges'], ['The Langham', 'Claridges'], ['The Langham', 'Claridges'], ['The Langham', 'Claridges'], ['The Langham', 'Claridges'], ['The Shangri', 'The Langham'], ['The Shangri', 'The Langham'], ['The Shangri', 'The Langham'], ['The Shangri', 'The Langham'], ['The Shangri', 'The Langham'], ['The Shangri', 'The Langham'], ['The Shangri', 'The Langham'], ['The Shangri', 'The Langham'], ['The Shangri', 'The Langham'], ['The Shangri', 'The Langham'], ['The Langham', 'The Dorchester'], ['The Langham', 'The Dorchester'], ['The Langham', 'The Dorchester'], ['The Langham', 'The Dorchester'], ['The Langham', 'The Dorchester'], ['The Langham', 'The Dorchester'], ['The Langham', 'The Dorchester'], ['The Langham', 'The Dorchester'], ['The Langham', 'The Dorchester'], ['The Langham', 'The Dorchester'], ['The Ritz', 'The Savoy'], ['The Ritz', 'The Savoy'], ['The Ritz', 'The Savoy'], ['The Ritz', 'The Savoy'], ['The Ritz', 'The Savoy'], ['The Ritz', 'The Savoy'], ['The Ritz', 'The Savoy'], ['The Ritz', 'The Savoy'], ['The Ritz', 'The Savoy'], ['The Ritz', 'The Savoy'], ['The Ritz', 'The Langham'], ['The Ritz', 'The Langham'], ['The Ritz', 'The Langham'], ['The Ritz', 'The Langham'], ['The Ritz', 'The Langham'], ['The Ritz', 'The Langham'], ['The Ritz', 'The Langham'], ['The Ritz', 'The Langham'], ['The Ritz', 'The Langham'], ['The Ritz', 'The Langham'], ['The Ritz', 'The Ned'], ['The Ritz', 'The Ned'], ['The Ritz', 'The Ned'], ['The Ritz', 'The Ned'], ['The Ritz', 'The Ned'], ['The Ritz', 'The Ned'], ['The Ritz', 'The Ned'], ['The Ritz', 'The Ned'], ['The Ritz', 'The Ned'], ['The Ritz', 'The Ned'], ['The Ritz', 'Claridges'], ['The Ritz', 'Claridges'], ['The Ritz', 'Claridges'], ['The Ritz', 'Claridges'], ['The Ritz', 'Claridges'], ['The Ritz', 'Claridges'], ['The Ritz', 'Claridges'], ['The Ritz', 'Claridges'], ['The Ritz', 'Claridges'], ['The Ritz', 'Claridges'], ['The Ritz', 'The Shangri'], ['The Shangri', 'The Ritz'], ['The Shangri', 'The Ritz'], ['The Ritz', 'The Shangri'], ['The Ritz', 'The Shangri'], ['The Ritz', 'The Shangri'], ['The Shangri', 'The Ritz'], ['The Shangri', 'The Ritz'], ['The Ritz', 'The Shangri'], ['The Ritz', 'The Shangri'], ['The Ritz', 'The Dorchester'], ['The Ritz', 'The Dorchester'], ['The Ritz', 'The Dorchester'], ['The Ritz', 'The Dorchester'], ['The Ritz', 'The Dorchester'], ['The Ritz', 'The Dorchester'], ['The Ritz', 'The Dorchester'], ['The Ritz', 'The Dorchester'], ['The Ritz', 'The Dorchester'], ['The Ritz', 'The Dorchester'], ['The Ned', 'The Savoy'], ['The Ned', 'The Savoy'], ['The Ned', 'The Savoy'], ['The Ned', 'The Savoy'], ['The Ned', 'The Savoy'], ['The Ned', 'The Savoy'], ['The Ned', 'The Savoy'], ['The Ned', 'The Savoy'], ['The Ned', 'The Savoy'], ['The Ned', 'The Savoy'], ['The Langham', 'The Ned'], ['The Ned', 'The Langham'], ['The Langham', 'The Ned'], ['The Ned', 'The Langham'], ['The Langham', 'The Ned'], ['The Ned', 'The Langham'], ['The Langham', 'The Ned'], ['The Langham', 'The Ned'], ['The Ned', 'The Langham'], ['The Langham', 'The Ned'], ['The Ritz', 'The Ned'], ['The Ritz', 'The Ned'], ['The Ritz', 'The Ned'], ['The Ritz', 'The Ned'], ['The Ritz', 'The Ned'], ['The Ritz', 'The Ned'], ['The Ned', 'The Ritz'], ['The Ritz', 'The Ned'], ['The Ritz', 'The Ned'], ['The Ritz', 'The Ned'], ['Claridges', 'The Ned'], ['The Ned', 'Claridges'], ['The Ned', 'Claridges'], ['The Ned', 'Claridges'], ['The Ned', 'Claridges'], ['Claridges', 'The Ned'], ['The Ned', 'Claridges'], ['The Ned', 'Claridges'], ['The Ned', 'Claridges'], ['The Ned', 'Claridges'], ['The Shangri', 'The Ned'], ['The Shangri', 'The Ned'], ['The Shangri', 'The Ned'], ['The Shangri', 'The Ned'], ['The Shangri', 'The Ned'], ['The Shangri', 'The Ned'], ['The Shangri', 'The Ned'], ['The Shangri', 'The Ned'], ['The Shangri', 'The Ned'], ['The Shangri', 'The Ned'], ['The Dorchester', 'The Ned'], ['The Dorchester', 'The Ned'], ['The Ned', 'The Dorchester'], ['The Dorchester', 'The Ned'], ['The Dorchester', 'The Ned'], ['The Dorchester', 'The Ned'], ['The Dorchester', 'The Ned'], ['The Dorchester', 'The Ned'], ['The Dorchester', 'The Ned'], ['The Ned', 'The Dorchester'], ['Claridges', 'The Savoy'], ['Claridges', 'The Savoy'], ['Claridges', 'The Savoy'], ['Claridges', 'The Savoy'], ['Claridges', 'The Savoy'], ['Claridges', 'The Savoy'], ['Claridges', 'The Savoy'], ['Claridges', 'The Savoy'], ['Claridges', 'The Savoy'], ['Claridges', 'The Savoy'], ['Claridges', 'The Langham'], ['Claridges', 'The Langham'], ['Claridges', 'The Langham'], ['Claridges', 'The Langham'], ['Claridges', 'The Langham'], ['Claridges', 'The Langham'], ['Claridges', 'The Langham'], ['Claridges', 'The Langham'], ['Claridges', 'The Langham'], ['Claridges', 'The Langham'], ['Claridges', 'The Ritz'], ['Claridges', 'The Ritz'], ['Claridges', 'The Ritz'], ['Claridges', 'The Ritz'], ['Claridges', 'The Ritz'], ['Claridges', 'The Ritz'], ['Claridges', 'The Ritz'], ['Claridges', 'The Ritz'], ['Claridges', 'The Ritz'], ['Claridges', 'The Ritz'], ['Claridges', 'The Ned'], ['Claridges', 'The Ned'], ['Claridges', 'The Ned'], ['Claridges', 'The Ned'], ['Claridges', 'The Ned'], ['Claridges', 'The Ned'], ['Claridges', 'The Ned'], ['Claridges', 'The Ned'], ['Claridges', 'The Ned'], ['Claridges', 'The Ned'], ['The Shangri', 'Claridges'], ['The Shangri', 'Claridges'], ['The Shangri', 'Claridges'], ['The Shangri', 'Claridges'], ['The Shangri', 'Claridges'], ['The Shangri', 'Claridges'], ['The Shangri', 'Claridges'], ['The Shangri', 'Claridges'], ['The Shangri', 'Claridges'], ['The Shangri', 'Claridges'], ['Claridges', 'The Dorchester'], ['Claridges', 'The Dorchester'], ['Claridges', 'The Dorchester'], ['The Dorchester', 'Claridges'], ['Claridges', 'The Dorchester'], ['Claridges', 'The Dorchester'], ['Claridges', 'The Dorchester'], ['Claridges', 'The Dorchester'], ['Claridges', 'The Dorchester'], ['Claridges', 'The Dorchester'], ['The Shangri', 'The Savoy'], ['The Shangri', 'The Savoy'], ['The Shangri', 'The Savoy'], ['The Shangri', 'The Savoy'], ['The Shangri', 'The Savoy'], ['The Shangri', 'The Savoy'], ['The Shangri', 'The Savoy'], ['The Shangri', 'The Savoy'], ['The Shangri', 'The Savoy'], ['The Shangri', 'The Savoy'], ['The Shangri', 'The Langham'], ['The Shangri', 'The Langham'], ['The Shangri', 'The Langham'], ['The Shangri', 'The Langham'], ['The Shangri', 'The Langham'], ['The Shangri', 'The Langham'], ['The Shangri', 'The Langham'], ['The Shangri', 'The Langham'], ['The Shangri', 'The Langham'], ['The Shangri', 'The Langham'], ['The Ritz', 'The Shangri'], ['The Shangri', 'The Ritz'], ['The Shangri', 'The Ritz'], ['The Shangri', 'The Ritz'], ['The Shangri', 'The Ritz'], ['The Shangri', 'The Ritz'], ['The Shangri', 'The Ritz'], ['The Shangri', 'The Ritz'], ['The Shangri', 'The Ritz'], ['The Shangri', 'The Ritz'], ['The Shangri', 'The Ned'], ['The Shangri', 'The Ned'], ['The Shangri', 'The Ned'], ['The Shangri', 'The Ned'], ['The Shangri', 'The Ned'], ['The Shangri', 'The Ned'], ['The Shangri', 'The Ned'], ['The Shangri', 'The Ned'], ['The Shangri', 'The Ned'], ['The Shangri', 'The Ned'], ['The Shangri', 'Claridges'], ['The Shangri', 'Claridges'], ['The Shangri', 'Claridges'], ['The Shangri', 'Claridges'], ['The Shangri', 'Claridges'], ['The Shangri', 'Claridges'], ['The Shangri', 'Claridges'], ['The Shangri', 'Claridges'], ['The Shangri', 'Claridges'], ['The Shangri', 'Claridges'], ['The Shangri', 'The Dorchester'], ['The Shangri', 'The Dorchester'], ['The Shangri', 'The Dorchester'], ['The Shangri', 'The Dorchester'], ['The Shangri', 'The Dorchester'], ['The Shangri', 'The Dorchester'], ['The Shangri', 'The Dorchester'], ['The Dorchester', 'The Shangri'], ['The Shangri', 'The Dorchester'], ['The Shangri', 'The Dorchester'], ['The Dorchester', 'The Savoy'], ['The Dorchester', 'The Savoy'], ['The Dorchester', 'The Savoy'], ['The Dorchester', 'The Savoy'], ['The Dorchester', 'The Savoy'], ['The Dorchester', 'The Savoy'], ['The Dorchester', 'The Savoy'], ['The Dorchester', 'The Savoy'], ['The Dorchester', 'The Savoy'], ['The Dorchester', 'The Savoy'], ['The Dorchester', 'The Langham'], ['The Dorchester', 'The Langham'], ['The Dorchester', 'The Langham'], ['The Langham', 'The Dorchester'], ['The Dorchester', 'The Langham'], ['The Langham', 'The Dorchester'], ['The Dorchester', 'The Langham'], ['The Langham', 'The Dorchester'], ['The Dorchester', 'The Langham'], ['The Dorchester', 'The Langham'], ['The Dorchester', 'The Ritz'], ['The Dorchester', 'The Ritz'], ['The Dorchester', 'The Ritz'], ['The Dorchester', 'The Ritz'], ['The Ritz', 'The Dorchester'], ['The Dorchester', 'The Ritz'], ['The Ritz', 'The Dorchester'], ['The Dorchester', 'The Ritz'], ['The Dorchester', 'The Ritz'], ['The Dorchester', 'The Ritz'], ['The Dorchester', 'The Ned'], ['The Dorchester', 'The Ned'], ['The Dorchester', 'The Ned'], ['The Dorchester', 'The Ned'], ['The Dorchester', 'The Ned'], ['The Dorchester', 'The Ned'], ['The Dorchester', 'The Ned'], ['The Dorchester', 'The Ned'], ['The Dorchester', 'The Ned'], ['The Dorchester', 'The Ned'], ['The Dorchester', 'Claridges'], ['The Dorchester', 'Claridges'], ['The Dorchester', 'Claridges'], ['The Dorchester', 'Claridges'], ['The Dorchester', 'Claridges'], ['The Dorchester', 'Claridges'], ['The Dorchester', 'Claridges'], ['The Dorchester', 'Claridges'], ['The Dorchester', 'Claridges'], ['The Dorchester', 'Claridges'], ['The Shangri', 'The Dorchester'], ['The Shangri', 'The Dorchester'], ['The Shangri', 'The Dorchester'], ['The Shangri', 'The Dorchester'], ['The Shangri', 'The Dorchester'], ['The Shangri', 'The Dorchester'], ['The Shangri', 'The Dorchester'], ['The Shangri', 'The Dorchester'], ['The Shangri', 'The Dorchester'], ['The Shangri', 'The Dorchester']]\n"
     ]
    }
   ],
   "source": [
    "print(decomposition_dict['being close to the beach'])"
   ]
  },
  {
   "cell_type": "code",
   "execution_count": 12,
   "metadata": {},
   "outputs": [
    {
     "name": "stdout",
     "output_type": "stream",
     "text": [
      "Beginning fit for feature:  value for money\n",
      "Successfully fit for value for money, when using alpha:  0\n",
      "Beginning fit for feature:  luxury\n",
      "Successfully fit for luxury, when using alpha:  0\n",
      "Beginning fit for feature:  location\n",
      "Successfully fit for location, when using alpha:  0\n",
      "Beginning fit for feature:  food\n",
      "Successfully fit for food, when using alpha:  0\n",
      "Beginning fit for feature:  being close to the beach\n",
      "Successfully fit for being close to the beach, when using alpha:  0\n"
     ]
    }
   ],
   "source": [
    "elo_scores = pd.get_decomposition_elo_scores('london_test_run', decomposition_dict, pairwise_words, [0])"
   ]
  },
  {
   "cell_type": "code",
   "execution_count": 13,
   "metadata": {},
   "outputs": [
    {
     "name": "stdout",
     "output_type": "stream",
     "text": [
      "{'being close to the beach': [(-1.3785663661168046, 'The Ned'),\n",
      "                              (-0.6870374514393548, 'The Savoy'),\n",
      "                              (-0.47553902143139315, 'The Langham'),\n",
      "                              (-0.40578522205814804, 'Claridges'),\n",
      "                              (-0.057086213448635736, 'The Dorchester'),\n",
      "                              (0.6088683345492291, 'The Ritz'),\n",
      "                              (2.395145939945107, 'The Shangri')],\n",
      " 'food': [(-2.3621679583451476, 'The Shangri'),\n",
      "          (-1.4999535408372924, 'The Langham'),\n",
      "          (-0.23619382530681166, 'The Savoy'),\n",
      "          (0.2519085958256934, 'The Dorchester'),\n",
      "          (1.010748753955646, 'The Ritz'),\n",
      "          (1.261875888544305, 'The Ned'),\n",
      "          (1.5737820861636074, 'Claridges')],\n",
      " 'location': [(-2.6830919193402876, 'Claridges'),\n",
      "              (-1.5572181731857733, 'The Shangri'),\n",
      "              (0.2770035569704947, 'The Langham'),\n",
      "              (0.4708957495016102, 'The Dorchester'),\n",
      "              (0.8937731634045248, 'The Ritz'),\n",
      "              (1.0501334312071284, 'The Savoy'),\n",
      "              (1.5485041914423023, 'The Ned')],\n",
      " 'luxury': [(-4.1049640391666955, 'The Ned'),\n",
      "            (-0.9564250066649516, 'Claridges'),\n",
      "            (-0.3969724384692235, 'The Langham'),\n",
      "            (-0.13422982366543268, 'The Shangri'),\n",
      "            (0.4787691630008373, 'The Savoy'),\n",
      "            (1.0020534092623554, 'The Dorchester'),\n",
      "            (4.1117687357031105, 'The Ritz')],\n",
      " 'value for money': [(-2.108179038224915, 'The Savoy'),\n",
      "                     (-1.3896082237688172, 'The Ritz'),\n",
      "                     (-0.9604107770382644, 'Claridges'),\n",
      "                     (-0.7729208843880055, 'The Dorchester'),\n",
      "                     (-0.7499625092244493, 'The Shangri'),\n",
      "                     (1.989797456491661, 'The Langham'),\n",
      "                     (3.991283976152788, 'The Ned')]}\n"
     ]
    }
   ],
   "source": [
    "from pprint import pprint\n",
    "pprint(elo_scores)"
   ]
  }
 ],
 "metadata": {
  "kernelspec": {
   "display_name": "Python 3",
   "language": "python",
   "name": "python3"
  },
  "language_info": {
   "codemirror_mode": {
    "name": "ipython",
    "version": 3
   },
   "file_extension": ".py",
   "mimetype": "text/x-python",
   "name": "python",
   "nbconvert_exporter": "python",
   "pygments_lexer": "ipython3",
   "version": "3.12.1"
  }
 },
 "nbformat": 4,
 "nbformat_minor": 2
}
