{
 "cells": [
  {
   "cell_type": "code",
   "execution_count": 1,
   "metadata": {},
   "outputs": [],
   "source": [
    "import sys\n",
    "sys.path.append(r\"../\")\n",
    "\n",
    "from methods.SimilarityTests import SimilarityTests"
   ]
  },
  {
   "cell_type": "code",
   "execution_count": 2,
   "metadata": {},
   "outputs": [],
   "source": [
    "st = SimilarityTests()\n",
    "\n",
    "prompt_dict = st.get_prompt_dict()\n",
    "word_dict = st.get_words_dict()\n",
    "\n",
    "top1_prompt = prompt_dict['top1'].format('London')\n",
    "London_words = word_dict['London']\n"
   ]
  },
  {
   "cell_type": "code",
   "execution_count": 3,
   "metadata": {},
   "outputs": [
    {
     "name": "stderr",
     "output_type": "stream",
     "text": [
      "c:\\Users\\chris\\Documents\\LMEO\\LMEO\\Experiments\\..\\methods\\SimilarityTests.py:20: RuntimeWarning: divide by zero encountered in log\n",
      "  params = np.log(weights)\n",
      "c:\\Users\\chris\\Documents\\LMEO\\LMEO\\Experiments\\..\\methods\\SimilarityTests.py:21: RuntimeWarning: invalid value encountered in subtract\n",
      "  return params - params.mean()\n"
     ]
    },
    {
     "ename": "RuntimeError",
     "evalue": "Did not converge after 10000 iterations",
     "output_type": "error",
     "traceback": [
      "\u001b[1;31m---------------------------------------------------------------------------\u001b[0m",
      "\u001b[1;31mRuntimeError\u001b[0m                              Traceback (most recent call last)",
      "Cell \u001b[1;32mIn[3], line 3\u001b[0m\n\u001b[0;32m      1\u001b[0m \u001b[38;5;28;01mfrom\u001b[39;00m \u001b[38;5;21;01mpprint\u001b[39;00m \u001b[38;5;28;01mimport\u001b[39;00m pprint\n\u001b[0;32m      2\u001b[0m test_top1 \u001b[38;5;241m=\u001b[39m st\u001b[38;5;241m.\u001b[39morder_top_1(\u001b[38;5;124m'\u001b[39m\u001b[38;5;124mtest\u001b[39m\u001b[38;5;124m'\u001b[39m, top1_prompt, \u001b[38;5;241m50\u001b[39m, dump\u001b[38;5;241m=\u001b[39m\u001b[38;5;28;01mFalse\u001b[39;00m)\n\u001b[1;32m----> 3\u001b[0m \u001b[38;5;28mprint\u001b[39m(\u001b[43mst\u001b[49m\u001b[38;5;241;43m.\u001b[39;49m\u001b[43mtop1_ranks_to_params\u001b[49m\u001b[43m(\u001b[49m\u001b[43mtest_top1\u001b[49m\u001b[43m,\u001b[49m\u001b[43m \u001b[49m\u001b[43mLondon_words\u001b[49m\u001b[43m)\u001b[49m)\n\u001b[0;32m      4\u001b[0m pprint(test_top1)\n",
      "File \u001b[1;32mc:\\Users\\chris\\Documents\\LMEO\\LMEO\\Experiments\\..\\methods\\SimilarityTests.py:412\u001b[0m, in \u001b[0;36mSimilarityTests.top1_ranks_to_params\u001b[1;34m(self, ranks, target_words, **kargs)\u001b[0m\n\u001b[0;32m    408\u001b[0m     new_index_set \u001b[38;5;241m=\u001b[39m [i \u001b[38;5;28;01mfor\u001b[39;00m i \u001b[38;5;129;01min\u001b[39;00m \u001b[38;5;28mrange\u001b[39m(\u001b[38;5;28mlen\u001b[39m(num_to_id)) \u001b[38;5;28;01mif\u001b[39;00m i \u001b[38;5;241m!=\u001b[39m rank[\u001b[38;5;241m0\u001b[39m]]\n\u001b[0;32m    410\u001b[0m     formated_ranks\u001b[38;5;241m.\u001b[39mappend([rank[\u001b[38;5;241m0\u001b[39m], new_index_set])\n\u001b[1;32m--> 412\u001b[0m MM_fitted_params \u001b[38;5;241m=\u001b[39m \u001b[43mmm_top1\u001b[49m\u001b[43m(\u001b[49m\u001b[38;5;28;43mlen\u001b[39;49m\u001b[43m(\u001b[49m\u001b[43mnum_to_id\u001b[49m\u001b[43m)\u001b[49m\u001b[43m,\u001b[49m\u001b[43m \u001b[49m\u001b[43mformated_ranks\u001b[49m\u001b[43m,\u001b[49m\u001b[43m \u001b[49m\u001b[38;5;241;43m*\u001b[39;49m\u001b[38;5;241;43m*\u001b[39;49m\u001b[43mkargs\u001b[49m\u001b[43m)\u001b[49m \n\u001b[0;32m    413\u001b[0m MM_fitted_params \u001b[38;5;241m=\u001b[39m \u001b[38;5;28msorted\u001b[39m(\u001b[38;5;28mzip\u001b[39m(MM_fitted_params, num_to_id\u001b[38;5;241m.\u001b[39mvalues()), key\u001b[38;5;241m=\u001b[39m\u001b[38;5;28;01mlambda\u001b[39;00m x: x[\u001b[38;5;241m0\u001b[39m], reverse\u001b[38;5;241m=\u001b[39m\u001b[38;5;28;01mTrue\u001b[39;00m)\n\u001b[0;32m    415\u001b[0m \u001b[38;5;28;01mreturn\u001b[39;00m MM_fitted_params\n",
      "File \u001b[1;32mc:\\Users\\chris\\Documents\\LMEO\\LMEO\\Experiments\\..\\methods\\SimilarityTests.py:242\u001b[0m, in \u001b[0;36mmm_top1\u001b[1;34m(n_items, data, initial_params, alpha, max_iter, tol)\u001b[0m\n\u001b[0;32m    208\u001b[0m \u001b[38;5;28;01mdef\u001b[39;00m \u001b[38;5;21mmm_top1\u001b[39m(\n\u001b[0;32m    209\u001b[0m         n_items, data, initial_params\u001b[38;5;241m=\u001b[39m\u001b[38;5;28;01mNone\u001b[39;00m, alpha\u001b[38;5;241m=\u001b[39m\u001b[38;5;241m0.0\u001b[39m,\n\u001b[0;32m    210\u001b[0m         max_iter\u001b[38;5;241m=\u001b[39m\u001b[38;5;241m10000\u001b[39m, tol\u001b[38;5;241m=\u001b[39m\u001b[38;5;241m1e-8\u001b[39m):\n\u001b[0;32m    211\u001b[0m \u001b[38;5;250m    \u001b[39m\u001b[38;5;124;03m\"\"\"Compute the ML estimate of model parameters using the MM algorithm.\u001b[39;00m\n\u001b[0;32m    212\u001b[0m \n\u001b[0;32m    213\u001b[0m \u001b[38;5;124;03m    This function computes the maximum-likelihood (ML) estimate of model\u001b[39;00m\n\u001b[1;32m   (...)\u001b[0m\n\u001b[0;32m    240\u001b[0m \u001b[38;5;124;03m        The ML estimate of model parameters.\u001b[39;00m\n\u001b[0;32m    241\u001b[0m \u001b[38;5;124;03m    \"\"\"\u001b[39;00m\n\u001b[1;32m--> 242\u001b[0m     \u001b[38;5;28;01mreturn\u001b[39;00m \u001b[43m_mm\u001b[49m\u001b[43m(\u001b[49m\u001b[43mn_items\u001b[49m\u001b[43m,\u001b[49m\u001b[43m \u001b[49m\u001b[43mdata\u001b[49m\u001b[43m,\u001b[49m\u001b[43m \u001b[49m\u001b[43minitial_params\u001b[49m\u001b[43m,\u001b[49m\u001b[43m \u001b[49m\u001b[43malpha\u001b[49m\u001b[43m,\u001b[49m\u001b[43m \u001b[49m\u001b[43mmax_iter\u001b[49m\u001b[43m,\u001b[49m\u001b[43m \u001b[49m\u001b[43mtol\u001b[49m\u001b[43m,\u001b[49m\u001b[43m \u001b[49m\u001b[43m_mm_top1\u001b[49m\u001b[43m)\u001b[49m\n",
      "File \u001b[1;32mc:\\Users\\chris\\Documents\\LMEO\\LMEO\\Experiments\\..\\methods\\SimilarityTests.py:90\u001b[0m, in \u001b[0;36m_mm\u001b[1;34m(n_items, data, initial_params, alpha, max_iter, tol, mm_fun)\u001b[0m\n\u001b[0;32m     87\u001b[0m     \u001b[38;5;28;01mif\u001b[39;00m converged(params):\n\u001b[0;32m     88\u001b[0m         \u001b[38;5;28;01mreturn\u001b[39;00m params\n\u001b[1;32m---> 90\u001b[0m \u001b[38;5;28;01mraise\u001b[39;00m \u001b[38;5;167;01mRuntimeError\u001b[39;00m(\u001b[38;5;124m\"\u001b[39m\u001b[38;5;124mDid not converge after \u001b[39m\u001b[38;5;132;01m{}\u001b[39;00m\u001b[38;5;124m iterations\u001b[39m\u001b[38;5;124m\"\u001b[39m\u001b[38;5;241m.\u001b[39mformat(max_iter))\n",
      "\u001b[1;31mRuntimeError\u001b[0m: Did not converge after 10000 iterations"
     ]
    }
   ],
   "source": [
    "from pprint import pprint\n",
    "test_top1 = st.order_top_1('test', top1_prompt, 50, dump=False)\n",
    "print(st.top1_ranks_to_params(test_top1, London_words))\n",
    "pprint(test_top1)"
   ]
  },
  {
   "cell_type": "code",
   "execution_count": 4,
   "metadata": {},
   "outputs": [
    {
     "name": "stdout",
     "output_type": "stream",
     "text": [
      "[(10.57548678603805, 'Ritz'), (9.38986318351162, 'Savoy'), (6.991968819803663, 'Langham'), (6.991968819803663, 'Ned'), (6.991968819803663, 'Dorchest'), (-6.823542738160111, 'Clarid'), (-6.823542738160111, 'hangri'), (-6.823542738160111, 'Shard'), (-6.823542738160111, 'Rose'), (-6.823542738160111, 'Royal'), (-6.823542738160111, 'OTHER')]\n"
     ]
    }
   ],
   "source": [
    "print(st.top1_ranks_to_params(test_top1, London_words, alpha=10**-6))\n"
   ]
  },
  {
   "cell_type": "code",
   "execution_count": 5,
   "metadata": {},
   "outputs": [],
   "source": [
    "import pickle \n",
    "\n",
    "with open(fr'.\\pickles\\ranks_Pair_test1.pkl', 'rb') as file:\n",
    "    pairwise_rank = pickle.load(file)"
   ]
  },
  {
   "cell_type": "code",
   "execution_count": 11,
   "metadata": {},
   "outputs": [
    {
     "name": "stdout",
     "output_type": "stream",
     "text": [
      "[(1.4726031939662474, 'The Ritz'), (-0.5652275917066045, 'The Langham'), (-0.9073756022596429, 'The Savoy')]\n"
     ]
    }
   ],
   "source": [
    "print(st.pairwise_ranks_to_params(pairwise_rank, ['The Langham', 'The Ritz', 'The Savoy'], alpha=0))"
   ]
  }
 ],
 "metadata": {
  "kernelspec": {
   "display_name": "Python 3",
   "language": "python",
   "name": "python3"
  },
  "language_info": {
   "codemirror_mode": {
    "name": "ipython",
    "version": 3
   },
   "file_extension": ".py",
   "mimetype": "text/x-python",
   "name": "python",
   "nbconvert_exporter": "python",
   "pygments_lexer": "ipython3",
   "version": "3.12.1"
  }
 },
 "nbformat": 4,
 "nbformat_minor": 2
}
