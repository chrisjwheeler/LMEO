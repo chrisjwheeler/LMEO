{
 "cells": [
  {
   "cell_type": "code",
   "execution_count": 1,
   "metadata": {},
   "outputs": [],
   "source": [
    "import pickle \n",
    "import sys\n",
    "from pprint import pprint\n",
    "\n",
    "sys.path.append('../')\n",
    "\n",
    "from methods.SimilarityTests import SimilarityTests\n",
    "from methods.LMEO import LMEO\n",
    "\n",
    "st = SimilarityTests()"
   ]
  },
  {
   "cell_type": "markdown",
   "metadata": {},
   "source": [
    "## Consistency Test.\n",
    "\n",
    "Here we conduct the consist four experiment to determine the similarity of the rankings. We will begin by analysing London and then we will automate the process so it can easily be tested on different product and services."
   ]
  },
  {
   "cell_type": "markdown",
   "metadata": {},
   "source": [
    "### Getting the rankings.\n",
    "\n",
    "We need to collect the following data:\n",
    "- Top5 - Already got.\n",
    "- Top3 - Already got.\n",
    "- Top1 - Need to order.\n",
    "- Pairwise - Need to order.\n",
    "\n"
   ]
  },
  {
   "cell_type": "code",
   "execution_count": 2,
   "metadata": {},
   "outputs": [
    {
     "name": "stdout",
     "output_type": "stream",
     "text": [
      "['Savoy', 'Langham', 'Ritz', 'Ned', 'Clarid', 'hangri', 'Dorchest', 'Shard', 'Rose', 'Royal']\n"
     ]
    }
   ],
   "source": [
    "## Geting the top1 prompt\n",
    "all_prompt_dict = st.get_prompt_dict()\n",
    "top1_prompt = all_prompt_dict['top1'].format('London')\n",
    "pairwise_prompt = all_prompt_dict['pairwise']\n",
    "\n",
    "london_words = st.get_words_dict()['London']\n",
    "\n",
    "print(london_words)\n"
   ]
  },
  {
   "cell_type": "code",
   "execution_count": 3,
   "metadata": {},
   "outputs": [
    {
     "name": "stdout",
     "output_type": "stream",
     "text": [
      "Loading Previously Generated Ranks.\n"
     ]
    }
   ],
   "source": [
    "## Ordering the top1.\n",
    "london_top1 = st.order_top_1('London1000', top1_prompt, 1000)"
   ]
  },
  {
   "cell_type": "code",
   "execution_count": 4,
   "metadata": {},
   "outputs": [
    {
     "name": "stdout",
     "output_type": "stream",
     "text": [
      "Loading Previously Generated Ranks.\n"
     ]
    }
   ],
   "source": [
    "## Ordering the pairwise \n",
    "pairwise_words = ['The Savoy', 'The Langham', 'The Ritz', 'The Ned', 'Claridges', 'The Shangri', 'The Dorchester', 'The Shard'] # We dont have all of the hotels in here.\n",
    "london_pairwise = st.order_pairwise_preferences('London1000', pairwise_prompt, pairwise_words, 50)"
   ]
  },
  {
   "cell_type": "code",
   "execution_count": 5,
   "metadata": {},
   "outputs": [],
   "source": [
    "## Loading the Top5 and the top3 files.\n",
    "\n",
    "with open(r'C:\\Users\\chris\\Documents\\LMEO\\LMEO\\Experiments\\pickles\\ranks_LondonTop3_1000.pkl', 'rb') as f:\n",
    "    london_top3 = pickle.load(f)\n",
    "\n",
    "with open(r'C:\\Users\\chris\\Documents\\LMEO\\LMEO\\Recomendation Research\\pickles\\ranks_London3000.pkl', 'rb') as f:\n",
    "    london_top5 = pickle.load(f)"
   ]
  },
  {
   "cell_type": "markdown",
   "metadata": {},
   "source": [
    "### Processing the rankings."
   ]
  },
  {
   "cell_type": "code",
   "execution_count": 6,
   "metadata": {},
   "outputs": [],
   "source": [
    "london_top3_params = st.topk_ranks_to_params(london_top3, london_words)\n",
    "london_top5_params = st.topk_ranks_to_params(london_top5, london_words)"
   ]
  },
  {
   "cell_type": "code",
   "execution_count": 7,
   "metadata": {},
   "outputs": [],
   "source": [
    "london_top1_params = st.top1_ranks_to_params(london_top1, london_words, alpha=10**-10)"
   ]
  },
  {
   "cell_type": "code",
   "execution_count": 8,
   "metadata": {},
   "outputs": [],
   "source": [
    "london_pairwise_params = st.pairwise_ranks_to_params(london_pairwise, pairwise_words, alpha=0)"
   ]
  },
  {
   "cell_type": "markdown",
   "metadata": {},
   "source": [
    "### Comparing the results. "
   ]
  },
  {
   "cell_type": "code",
   "execution_count": 9,
   "metadata": {},
   "outputs": [
    {
     "name": "stdout",
     "output_type": "stream",
     "text": [
      "[(10.381413214859949, 'Ritz'), (8.622679001064089, 'Savoy'), (8.467114893439827, 'Langham'), (7.589663994883327, 'Ned'), (7.37835490121668, 'Dorchest'), (6.685207720659676, 'OTHER'), (4.545141557207522, 'hangri'), (3.8519943766975775, 'Rose'), (-19.17385655334288, 'Clarid'), (-19.17385655334288, 'Shard'), (-19.17385655334288, 'Royal')]\n",
      "[(2.8132791986731136, 'Ritz'), (0.9382143585285698, 'Langham'), (0.6417585774548971, 'Savoy'), (0.5833090506446574, 'Ned'), (0.5358631098634199, 'Shard'), (0.43687310174645144, 'Dorchest'), (0.22134039510590642, 'OTHER'), (-0.8361901850075985, 'Rose'), (-0.9198758525756158, 'Clarid'), (-1.3791314412819928, 'Royal'), (-3.0354403131518075, 'hangri')]\n",
      "[(2.393704849800758, 'Ritz'), (0.5618058597780922, 'Savoy'), (0.44840088522848864, 'Langham'), (0.3396494731022665, 'Shard'), (0.18720783690111586, 'Ned'), (0.13826650128702112, 'Dorchest'), (-0.48360625500891696, 'OTHER'), (-0.4987313979795599, 'Clarid'), (-0.8572428891945337, 'Royal'), (-1.1001181145858827, 'hangri'), (-1.1293367493288495, 'Rose')]\n",
      "[(2.6741629983024118, 'The Ritz'), (1.2011782279982344, 'The Savoy'), (0.6324022829819813, 'The Dorchester'), (0.5710428409098807, 'The Langham'), (-0.5732856334090939, 'The Ned'), (-0.7661857400225411, 'Claridges'), (-1.6951621533821652, 'The Shard'), (-2.0441528233787087, 'The Shangri')]\n"
     ]
    }
   ],
   "source": [
    "print(london_top1_params)\n",
    "print(london_top3_params)\n",
    "print(london_top5_params)\n",
    "print(london_pairwise_params)"
   ]
  },
  {
   "cell_type": "code",
   "execution_count": 10,
   "metadata": {},
   "outputs": [],
   "source": [
    "# We will now use scipy kendal tau to compare the top1, top\n",
    "num_to_id, id_to_num = st.get_conversions(london_words)"
   ]
  },
  {
   "cell_type": "code",
   "execution_count": 11,
   "metadata": {},
   "outputs": [
    {
     "name": "stdout",
     "output_type": "stream",
     "text": [
      "[2, 1, 0, 3, 7, 6, 10, 8, 4, 9, 5]\n",
      "[2, 0, 1, 7, 3, 6, 10, 4, 9, 5, 8]\n",
      "[2, 0, 1, 3, 6, 10, 5, 8, 4, 7, 9]\n"
     ]
    }
   ],
   "source": [
    "#from scipy.stats import kendalltau\n",
    "\n",
    "top3_ordering = [id_to_num[x[1]] for x in london_top3_params]\n",
    "top5_ordering = [id_to_num[x[1]] for x in london_top5_params]\n",
    "top1_ordering = [id_to_num[x[1]] for x in london_top1_params]\n",
    "\n",
    "print(top3_ordering)\n",
    "print(top5_ordering)\n",
    "print(top1_ordering)\n"
   ]
  },
  {
   "cell_type": "code",
   "execution_count": 12,
   "metadata": {},
   "outputs": [
    {
     "ename": "RecursionError",
     "evalue": "maximum recursion depth exceeded",
     "output_type": "error",
     "traceback": [
      "\u001b[1;31m---------------------------------------------------------------------------\u001b[0m",
      "\u001b[1;31mRecursionError\u001b[0m                            Traceback (most recent call last)",
      "Cell \u001b[1;32mIn[12], line 1\u001b[0m\n\u001b[1;32m----> 1\u001b[0m \u001b[38;5;28;01mimport\u001b[39;00m \u001b[38;5;21;01mscipy\u001b[39;00m\u001b[38;5;21;01m.\u001b[39;00m\u001b[38;5;21;01mstats\u001b[39;00m \u001b[38;5;28;01mas\u001b[39;00m \u001b[38;5;21;01mstats\u001b[39;00m\n\u001b[0;32m      2\u001b[0m \u001b[38;5;28;01mimport\u001b[39;00m \u001b[38;5;21;01mitertools\u001b[39;00m\n\u001b[0;32m      4\u001b[0m top3 \u001b[38;5;241m=\u001b[39m (\u001b[38;5;124m'\u001b[39m\u001b[38;5;124mtop3\u001b[39m\u001b[38;5;124m'\u001b[39m, [\u001b[38;5;241m2\u001b[39m, \u001b[38;5;241m1\u001b[39m, \u001b[38;5;241m0\u001b[39m, \u001b[38;5;241m3\u001b[39m, \u001b[38;5;241m7\u001b[39m, \u001b[38;5;241m6\u001b[39m, \u001b[38;5;241m10\u001b[39m, \u001b[38;5;241m8\u001b[39m, \u001b[38;5;241m4\u001b[39m, \u001b[38;5;241m9\u001b[39m, \u001b[38;5;241m5\u001b[39m])\n",
      "File \u001b[1;32mc:\\Python312\\Lib\\site-packages\\scipy\\stats\\__init__.py:610\u001b[0m\n\u001b[0;32m      1\u001b[0m \u001b[38;5;124;03m\"\"\"\u001b[39;00m\n\u001b[0;32m      2\u001b[0m \u001b[38;5;124;03m.. _statsrefmanual:\u001b[39;00m\n\u001b[0;32m      3\u001b[0m \n\u001b[1;32m   (...)\u001b[0m\n\u001b[0;32m    605\u001b[0m \n\u001b[0;32m    606\u001b[0m \u001b[38;5;124;03m\"\"\"\u001b[39;00m  \u001b[38;5;66;03m# noqa: E501\u001b[39;00m\n\u001b[0;32m    608\u001b[0m \u001b[38;5;28;01mfrom\u001b[39;00m \u001b[38;5;21;01m.\u001b[39;00m\u001b[38;5;21;01m_warnings_errors\u001b[39;00m \u001b[38;5;28;01mimport\u001b[39;00m (ConstantInputWarning, NearConstantInputWarning,\n\u001b[0;32m    609\u001b[0m                                DegenerateDataWarning, FitError)\n\u001b[1;32m--> 610\u001b[0m \u001b[38;5;28;01mfrom\u001b[39;00m \u001b[38;5;21;01m.\u001b[39;00m\u001b[38;5;21;01m_stats_py\u001b[39;00m \u001b[38;5;28;01mimport\u001b[39;00m \u001b[38;5;241m*\u001b[39m\n\u001b[0;32m    611\u001b[0m \u001b[38;5;28;01mfrom\u001b[39;00m \u001b[38;5;21;01m.\u001b[39;00m\u001b[38;5;21;01m_variation\u001b[39;00m \u001b[38;5;28;01mimport\u001b[39;00m variation\n\u001b[0;32m    612\u001b[0m \u001b[38;5;28;01mfrom\u001b[39;00m \u001b[38;5;21;01m.\u001b[39;00m\u001b[38;5;21;01mdistributions\u001b[39;00m \u001b[38;5;28;01mimport\u001b[39;00m \u001b[38;5;241m*\u001b[39m\n",
      "File \u001b[1;32mc:\\Python312\\Lib\\site-packages\\scipy\\stats\\_stats_py.py:49\u001b[0m\n\u001b[0;32m     46\u001b[0m \u001b[38;5;66;03m# Import unused here but needs to stay until end of deprecation periode\u001b[39;00m\n\u001b[0;32m     47\u001b[0m \u001b[38;5;66;03m# See https://github.com/scipy/scipy/issues/15765#issuecomment-1875564522\u001b[39;00m\n\u001b[0;32m     48\u001b[0m \u001b[38;5;28;01mfrom\u001b[39;00m \u001b[38;5;21;01mscipy\u001b[39;00m \u001b[38;5;28;01mimport\u001b[39;00m linalg  \u001b[38;5;66;03m# noqa: F401\u001b[39;00m\n\u001b[1;32m---> 49\u001b[0m \u001b[38;5;28;01mfrom\u001b[39;00m \u001b[38;5;21;01m.\u001b[39;00m \u001b[38;5;28;01mimport\u001b[39;00m distributions\n\u001b[0;32m     50\u001b[0m \u001b[38;5;28;01mfrom\u001b[39;00m \u001b[38;5;21;01m.\u001b[39;00m \u001b[38;5;28;01mimport\u001b[39;00m _mstats_basic \u001b[38;5;28;01mas\u001b[39;00m mstats_basic\n\u001b[0;32m     52\u001b[0m \u001b[38;5;28;01mfrom\u001b[39;00m \u001b[38;5;21;01m.\u001b[39;00m\u001b[38;5;21;01m_stats_mstats_common\u001b[39;00m \u001b[38;5;28;01mimport\u001b[39;00m _find_repeats, theilslopes, siegelslopes\n",
      "File \u001b[1;32mc:\\Python312\\Lib\\site-packages\\scipy\\stats\\distributions.py:10\u001b[0m\n\u001b[0;32m      1\u001b[0m \u001b[38;5;66;03m#\u001b[39;00m\n\u001b[0;32m      2\u001b[0m \u001b[38;5;66;03m# Author:  Travis Oliphant  2002-2011 with contributions from\u001b[39;00m\n\u001b[0;32m      3\u001b[0m \u001b[38;5;66;03m#          SciPy Developers 2004-2011\u001b[39;00m\n\u001b[1;32m   (...)\u001b[0m\n\u001b[0;32m      6\u001b[0m \u001b[38;5;66;03m#       instead of `git blame -Lxxx,+x`.\u001b[39;00m\n\u001b[0;32m      7\u001b[0m \u001b[38;5;66;03m#\u001b[39;00m\n\u001b[0;32m      8\u001b[0m \u001b[38;5;28;01mfrom\u001b[39;00m \u001b[38;5;21;01m.\u001b[39;00m\u001b[38;5;21;01m_distn_infrastructure\u001b[39;00m \u001b[38;5;28;01mimport\u001b[39;00m (rv_discrete, rv_continuous, rv_frozen)  \u001b[38;5;66;03m# noqa: F401\u001b[39;00m\n\u001b[1;32m---> 10\u001b[0m \u001b[38;5;28;01mfrom\u001b[39;00m \u001b[38;5;21;01m.\u001b[39;00m \u001b[38;5;28;01mimport\u001b[39;00m _continuous_distns\n\u001b[0;32m     11\u001b[0m \u001b[38;5;28;01mfrom\u001b[39;00m \u001b[38;5;21;01m.\u001b[39;00m \u001b[38;5;28;01mimport\u001b[39;00m _discrete_distns\n\u001b[0;32m     13\u001b[0m \u001b[38;5;28;01mfrom\u001b[39;00m \u001b[38;5;21;01m.\u001b[39;00m\u001b[38;5;21;01m_continuous_distns\u001b[39;00m \u001b[38;5;28;01mimport\u001b[39;00m \u001b[38;5;241m*\u001b[39m  \u001b[38;5;66;03m# noqa: F403\u001b[39;00m\n",
      "File \u001b[1;32mc:\\Python312\\Lib\\site-packages\\scipy\\stats\\_continuous_distns.py:12\u001b[0m\n\u001b[0;32m     10\u001b[0m \u001b[38;5;28;01mimport\u001b[39;00m \u001b[38;5;21;01mnumpy\u001b[39;00m \u001b[38;5;28;01mas\u001b[39;00m \u001b[38;5;21;01mnp\u001b[39;00m\n\u001b[0;32m     11\u001b[0m \u001b[38;5;28;01mfrom\u001b[39;00m \u001b[38;5;21;01mnumpy\u001b[39;00m\u001b[38;5;21;01m.\u001b[39;00m\u001b[38;5;21;01mpolynomial\u001b[39;00m \u001b[38;5;28;01mimport\u001b[39;00m Polynomial\n\u001b[1;32m---> 12\u001b[0m \u001b[38;5;28;01mfrom\u001b[39;00m \u001b[38;5;21;01mscipy\u001b[39;00m\u001b[38;5;21;01m.\u001b[39;00m\u001b[38;5;21;01minterpolate\u001b[39;00m \u001b[38;5;28;01mimport\u001b[39;00m BSpline\n\u001b[0;32m     13\u001b[0m \u001b[38;5;28;01mfrom\u001b[39;00m \u001b[38;5;21;01mscipy\u001b[39;00m\u001b[38;5;21;01m.\u001b[39;00m\u001b[38;5;21;01m_lib\u001b[39;00m\u001b[38;5;21;01m.\u001b[39;00m\u001b[38;5;21;01mdoccer\u001b[39;00m \u001b[38;5;28;01mimport\u001b[39;00m (extend_notes_in_docstring,\n\u001b[0;32m     14\u001b[0m                                replace_notes_in_docstring,\n\u001b[0;32m     15\u001b[0m                                inherit_docstring_from)\n\u001b[0;32m     16\u001b[0m \u001b[38;5;28;01mfrom\u001b[39;00m \u001b[38;5;21;01mscipy\u001b[39;00m\u001b[38;5;21;01m.\u001b[39;00m\u001b[38;5;21;01m_lib\u001b[39;00m\u001b[38;5;21;01m.\u001b[39;00m\u001b[38;5;21;01m_ccallback\u001b[39;00m \u001b[38;5;28;01mimport\u001b[39;00m LowLevelCallable\n",
      "File \u001b[1;32mc:\\Python312\\Lib\\site-packages\\scipy\\interpolate\\__init__.py:167\u001b[0m\n\u001b[0;32m      1\u001b[0m \u001b[38;5;124;03m\"\"\"\u001b[39;00m\n\u001b[0;32m      2\u001b[0m \u001b[38;5;124;03m========================================\u001b[39;00m\n\u001b[0;32m      3\u001b[0m \u001b[38;5;124;03mInterpolation (:mod:`scipy.interpolate`)\u001b[39;00m\n\u001b[1;32m   (...)\u001b[0m\n\u001b[0;32m    165\u001b[0m \u001b[38;5;124;03m(should not be used in new code).\u001b[39;00m\n\u001b[0;32m    166\u001b[0m \u001b[38;5;124;03m\"\"\"\u001b[39;00m\n\u001b[1;32m--> 167\u001b[0m \u001b[38;5;28;01mfrom\u001b[39;00m \u001b[38;5;21;01m.\u001b[39;00m\u001b[38;5;21;01m_interpolate\u001b[39;00m \u001b[38;5;28;01mimport\u001b[39;00m \u001b[38;5;241m*\u001b[39m\n\u001b[0;32m    168\u001b[0m \u001b[38;5;28;01mfrom\u001b[39;00m \u001b[38;5;21;01m.\u001b[39;00m\u001b[38;5;21;01m_fitpack_py\u001b[39;00m \u001b[38;5;28;01mimport\u001b[39;00m \u001b[38;5;241m*\u001b[39m\n\u001b[0;32m    170\u001b[0m \u001b[38;5;66;03m# New interface to fitpack library:\u001b[39;00m\n",
      "File \u001b[1;32mc:\\Python312\\Lib\\site-packages\\scipy\\interpolate\\_interpolate.py:12\u001b[0m\n\u001b[0;32m      9\u001b[0m \u001b[38;5;28;01mfrom\u001b[39;00m \u001b[38;5;21;01mscipy\u001b[39;00m\u001b[38;5;21;01m.\u001b[39;00m\u001b[38;5;21;01m_lib\u001b[39;00m\u001b[38;5;21;01m.\u001b[39;00m\u001b[38;5;21;01m_util\u001b[39;00m \u001b[38;5;28;01mimport\u001b[39;00m copy_if_needed\n\u001b[0;32m     10\u001b[0m \u001b[38;5;28;01mfrom\u001b[39;00m \u001b[38;5;21;01mscipy\u001b[39;00m\u001b[38;5;21;01m.\u001b[39;00m\u001b[38;5;21;01mspecial\u001b[39;00m \u001b[38;5;28;01mimport\u001b[39;00m comb\n\u001b[1;32m---> 12\u001b[0m \u001b[38;5;28;01mfrom\u001b[39;00m \u001b[38;5;21;01m.\u001b[39;00m \u001b[38;5;28;01mimport\u001b[39;00m _fitpack_py\n\u001b[0;32m     13\u001b[0m \u001b[38;5;28;01mfrom\u001b[39;00m \u001b[38;5;21;01m.\u001b[39;00m\u001b[38;5;21;01m_polyint\u001b[39;00m \u001b[38;5;28;01mimport\u001b[39;00m _Interpolator1D\n\u001b[0;32m     14\u001b[0m \u001b[38;5;28;01mfrom\u001b[39;00m \u001b[38;5;21;01m.\u001b[39;00m \u001b[38;5;28;01mimport\u001b[39;00m _ppoly\n",
      "File \u001b[1;32mc:\\Python312\\Lib\\site-packages\\scipy\\interpolate\\_fitpack_py.py:8\u001b[0m\n\u001b[0;32m      5\u001b[0m \u001b[38;5;28;01mimport\u001b[39;00m \u001b[38;5;21;01mnumpy\u001b[39;00m \u001b[38;5;28;01mas\u001b[39;00m \u001b[38;5;21;01mnp\u001b[39;00m\n\u001b[0;32m      7\u001b[0m \u001b[38;5;66;03m# These are in the API for fitpack even if not used in fitpack.py itself.\u001b[39;00m\n\u001b[1;32m----> 8\u001b[0m \u001b[38;5;28;01mfrom\u001b[39;00m \u001b[38;5;21;01m.\u001b[39;00m\u001b[38;5;21;01m_fitpack_impl\u001b[39;00m \u001b[38;5;28;01mimport\u001b[39;00m bisplrep, bisplev, dblint  \u001b[38;5;66;03m# noqa: F401\u001b[39;00m\n\u001b[0;32m      9\u001b[0m \u001b[38;5;28;01mfrom\u001b[39;00m \u001b[38;5;21;01m.\u001b[39;00m \u001b[38;5;28;01mimport\u001b[39;00m _fitpack_impl \u001b[38;5;28;01mas\u001b[39;00m _impl\n\u001b[0;32m     10\u001b[0m \u001b[38;5;28;01mfrom\u001b[39;00m \u001b[38;5;21;01m.\u001b[39;00m\u001b[38;5;21;01m_bsplines\u001b[39;00m \u001b[38;5;28;01mimport\u001b[39;00m BSpline\n",
      "File \u001b[1;32mc:\\Python312\\Lib\\site-packages\\scipy\\interpolate\\_fitpack_impl.py:103\u001b[0m\n\u001b[0;32m     52\u001b[0m _iermess \u001b[38;5;241m=\u001b[39m {\n\u001b[0;32m     53\u001b[0m     \u001b[38;5;241m0\u001b[39m: [\u001b[38;5;124m\"\u001b[39m\u001b[38;5;124mThe spline has a residual sum of squares fp such that \u001b[39m\u001b[38;5;124m\"\u001b[39m\n\u001b[0;32m     54\u001b[0m         \u001b[38;5;124m\"\u001b[39m\u001b[38;5;124mabs(fp-s)/s<=0.001\u001b[39m\u001b[38;5;124m\"\u001b[39m, \u001b[38;5;28;01mNone\u001b[39;00m],\n\u001b[1;32m   (...)\u001b[0m\n\u001b[0;32m     68\u001b[0m     \u001b[38;5;124m'\u001b[39m\u001b[38;5;124munknown\u001b[39m\u001b[38;5;124m'\u001b[39m: [\u001b[38;5;124m\"\u001b[39m\u001b[38;5;124mAn error occurred\u001b[39m\u001b[38;5;124m\"\u001b[39m, \u001b[38;5;167;01mTypeError\u001b[39;00m]\n\u001b[0;32m     69\u001b[0m }\n\u001b[0;32m     71\u001b[0m _iermess2 \u001b[38;5;241m=\u001b[39m {\n\u001b[0;32m     72\u001b[0m     \u001b[38;5;241m0\u001b[39m: [\u001b[38;5;124m\"\u001b[39m\u001b[38;5;124mThe spline has a residual sum of squares fp such that \u001b[39m\u001b[38;5;124m\"\u001b[39m\n\u001b[0;32m     73\u001b[0m         \u001b[38;5;124m\"\u001b[39m\u001b[38;5;124mabs(fp-s)/s<=0.001\u001b[39m\u001b[38;5;124m\"\u001b[39m, \u001b[38;5;28;01mNone\u001b[39;00m],\n\u001b[1;32m   (...)\u001b[0m\n\u001b[0;32m     99\u001b[0m     \u001b[38;5;124m'\u001b[39m\u001b[38;5;124munknown\u001b[39m\u001b[38;5;124m'\u001b[39m: [\u001b[38;5;124m\"\u001b[39m\u001b[38;5;124mAn error occurred\u001b[39m\u001b[38;5;124m\"\u001b[39m, \u001b[38;5;167;01mTypeError\u001b[39;00m]\n\u001b[0;32m    100\u001b[0m }\n\u001b[0;32m    102\u001b[0m _parcur_cache \u001b[38;5;241m=\u001b[39m {\u001b[38;5;124m'\u001b[39m\u001b[38;5;124mt\u001b[39m\u001b[38;5;124m'\u001b[39m: array([], \u001b[38;5;28mfloat\u001b[39m), \u001b[38;5;124m'\u001b[39m\u001b[38;5;124mwrk\u001b[39m\u001b[38;5;124m'\u001b[39m: array([], \u001b[38;5;28mfloat\u001b[39m),\n\u001b[1;32m--> 103\u001b[0m                  \u001b[38;5;124m'\u001b[39m\u001b[38;5;124miwrk\u001b[39m\u001b[38;5;124m'\u001b[39m: \u001b[43marray\u001b[49m\u001b[43m(\u001b[49m\u001b[43m[\u001b[49m\u001b[43m]\u001b[49m\u001b[43m,\u001b[49m\u001b[43m \u001b[49m\u001b[43mdfitpack_int\u001b[49m\u001b[43m)\u001b[49m, \u001b[38;5;124m'\u001b[39m\u001b[38;5;124mu\u001b[39m\u001b[38;5;124m'\u001b[39m: array([], \u001b[38;5;28mfloat\u001b[39m),\n\u001b[0;32m    104\u001b[0m                  \u001b[38;5;124m'\u001b[39m\u001b[38;5;124mub\u001b[39m\u001b[38;5;124m'\u001b[39m: \u001b[38;5;241m0\u001b[39m, \u001b[38;5;124m'\u001b[39m\u001b[38;5;124mue\u001b[39m\u001b[38;5;124m'\u001b[39m: \u001b[38;5;241m1\u001b[39m}\n\u001b[0;32m    107\u001b[0m \u001b[38;5;28;01mdef\u001b[39;00m \u001b[38;5;21msplprep\u001b[39m(x, w\u001b[38;5;241m=\u001b[39m\u001b[38;5;28;01mNone\u001b[39;00m, u\u001b[38;5;241m=\u001b[39m\u001b[38;5;28;01mNone\u001b[39;00m, ub\u001b[38;5;241m=\u001b[39m\u001b[38;5;28;01mNone\u001b[39;00m, ue\u001b[38;5;241m=\u001b[39m\u001b[38;5;28;01mNone\u001b[39;00m, k\u001b[38;5;241m=\u001b[39m\u001b[38;5;241m3\u001b[39m, task\u001b[38;5;241m=\u001b[39m\u001b[38;5;241m0\u001b[39m, s\u001b[38;5;241m=\u001b[39m\u001b[38;5;28;01mNone\u001b[39;00m, t\u001b[38;5;241m=\u001b[39m\u001b[38;5;28;01mNone\u001b[39;00m,\n\u001b[0;32m    108\u001b[0m             full_output\u001b[38;5;241m=\u001b[39m\u001b[38;5;241m0\u001b[39m, nest\u001b[38;5;241m=\u001b[39m\u001b[38;5;28;01mNone\u001b[39;00m, per\u001b[38;5;241m=\u001b[39m\u001b[38;5;241m0\u001b[39m, quiet\u001b[38;5;241m=\u001b[39m\u001b[38;5;241m1\u001b[39m):\n\u001b[0;32m    109\u001b[0m     \u001b[38;5;66;03m# see the docstring of `_fitpack_py/splprep`\u001b[39;00m\n\u001b[0;32m    110\u001b[0m     \u001b[38;5;28;01mif\u001b[39;00m task \u001b[38;5;241m<\u001b[39m\u001b[38;5;241m=\u001b[39m \u001b[38;5;241m0\u001b[39m:\n",
      "File \u001b[1;32mc:\\Python312\\Lib\\site-packages\\numpy\\core\\_dtype.py:46\u001b[0m, in \u001b[0;36m__repr__\u001b[1;34m(dtype)\u001b[0m\n\u001b[0;32m     45\u001b[0m \u001b[38;5;28;01mdef\u001b[39;00m \u001b[38;5;21m__repr__\u001b[39m(dtype):\n\u001b[1;32m---> 46\u001b[0m     arg_str \u001b[38;5;241m=\u001b[39m \u001b[43m_construction_repr\u001b[49m\u001b[43m(\u001b[49m\u001b[43mdtype\u001b[49m\u001b[43m,\u001b[49m\u001b[43m \u001b[49m\u001b[43minclude_align\u001b[49m\u001b[38;5;241;43m=\u001b[39;49m\u001b[38;5;28;43;01mFalse\u001b[39;49;00m\u001b[43m)\u001b[49m\n\u001b[0;32m     47\u001b[0m     \u001b[38;5;28;01mif\u001b[39;00m dtype\u001b[38;5;241m.\u001b[39misalignedstruct:\n\u001b[0;32m     48\u001b[0m         arg_str \u001b[38;5;241m=\u001b[39m arg_str \u001b[38;5;241m+\u001b[39m \u001b[38;5;124m\"\u001b[39m\u001b[38;5;124m, align=True\u001b[39m\u001b[38;5;124m\"\u001b[39m\n",
      "File \u001b[1;32mc:\\Python312\\Lib\\site-packages\\numpy\\core\\_dtype.py:100\u001b[0m, in \u001b[0;36m_construction_repr\u001b[1;34m(dtype, include_align, short)\u001b[0m\n\u001b[0;32m     98\u001b[0m     \u001b[38;5;28;01mreturn\u001b[39;00m _subarray_str(dtype)\n\u001b[0;32m     99\u001b[0m \u001b[38;5;28;01melse\u001b[39;00m:\n\u001b[1;32m--> 100\u001b[0m     \u001b[38;5;28;01mreturn\u001b[39;00m \u001b[43m_scalar_str\u001b[49m\u001b[43m(\u001b[49m\u001b[43mdtype\u001b[49m\u001b[43m,\u001b[49m\u001b[43m \u001b[49m\u001b[43mshort\u001b[49m\u001b[38;5;241;43m=\u001b[39;49m\u001b[43mshort\u001b[49m\u001b[43m)\u001b[49m\n",
      "File \u001b[1;32mc:\\Python312\\Lib\\site-packages\\numpy\\core\\_dtype.py:143\u001b[0m, in \u001b[0;36m_scalar_str\u001b[1;34m(dtype, short)\u001b[0m\n\u001b[0;32m    140\u001b[0m \u001b[38;5;28;01melif\u001b[39;00m dtype\u001b[38;5;241m.\u001b[39mtype \u001b[38;5;241m==\u001b[39m np\u001b[38;5;241m.\u001b[39mtimedelta64:\n\u001b[0;32m    141\u001b[0m     \u001b[38;5;28;01mreturn\u001b[39;00m \u001b[38;5;124m\"\u001b[39m\u001b[38;5;124m'\u001b[39m\u001b[38;5;132;01m%s\u001b[39;00m\u001b[38;5;124mm8\u001b[39m\u001b[38;5;132;01m%s\u001b[39;00m\u001b[38;5;124m'\u001b[39m\u001b[38;5;124m\"\u001b[39m \u001b[38;5;241m%\u001b[39m (byteorder, _datetime_metadata_str(dtype))\n\u001b[1;32m--> 143\u001b[0m \u001b[38;5;28;01melif\u001b[39;00m \u001b[43mnp\u001b[49m\u001b[38;5;241;43m.\u001b[39;49m\u001b[43missubdtype\u001b[49m\u001b[43m(\u001b[49m\u001b[43mdtype\u001b[49m\u001b[43m,\u001b[49m\u001b[43m \u001b[49m\u001b[43mnp\u001b[49m\u001b[38;5;241;43m.\u001b[39;49m\u001b[43mnumber\u001b[49m\u001b[43m)\u001b[49m:\n\u001b[0;32m    144\u001b[0m     \u001b[38;5;66;03m# Short repr with endianness, like '<f8'\u001b[39;00m\n\u001b[0;32m    145\u001b[0m     \u001b[38;5;28;01mif\u001b[39;00m short \u001b[38;5;129;01mor\u001b[39;00m dtype\u001b[38;5;241m.\u001b[39mbyteorder \u001b[38;5;129;01mnot\u001b[39;00m \u001b[38;5;129;01min\u001b[39;00m (\u001b[38;5;124m'\u001b[39m\u001b[38;5;124m=\u001b[39m\u001b[38;5;124m'\u001b[39m, \u001b[38;5;124m'\u001b[39m\u001b[38;5;124m|\u001b[39m\u001b[38;5;124m'\u001b[39m):\n\u001b[0;32m    146\u001b[0m         \u001b[38;5;28;01mreturn\u001b[39;00m \u001b[38;5;124m\"\u001b[39m\u001b[38;5;124m'\u001b[39m\u001b[38;5;132;01m%s\u001b[39;00m\u001b[38;5;132;01m%c\u001b[39;00m\u001b[38;5;132;01m%d\u001b[39;00m\u001b[38;5;124m'\u001b[39m\u001b[38;5;124m\"\u001b[39m \u001b[38;5;241m%\u001b[39m (byteorder, dtype\u001b[38;5;241m.\u001b[39mkind, dtype\u001b[38;5;241m.\u001b[39mitemsize)\n",
      "File \u001b[1;32mc:\\Python312\\Lib\\site-packages\\numpy\\core\\numerictypes.py:417\u001b[0m, in \u001b[0;36missubdtype\u001b[1;34m(arg1, arg2)\u001b[0m\n\u001b[0;32m    359\u001b[0m \u001b[38;5;250m\u001b[39m\u001b[38;5;124mr\u001b[39m\u001b[38;5;124;03m\"\"\"\u001b[39;00m\n\u001b[0;32m    360\u001b[0m \u001b[38;5;124;03mReturns True if first argument is a typecode lower/equal in type hierarchy.\u001b[39;00m\n\u001b[0;32m    361\u001b[0m \n\u001b[1;32m   (...)\u001b[0m\n\u001b[0;32m    414\u001b[0m \n\u001b[0;32m    415\u001b[0m \u001b[38;5;124;03m\"\"\"\u001b[39;00m\n\u001b[0;32m    416\u001b[0m \u001b[38;5;28;01mif\u001b[39;00m \u001b[38;5;129;01mnot\u001b[39;00m issubclass_(arg1, generic):\n\u001b[1;32m--> 417\u001b[0m     arg1 \u001b[38;5;241m=\u001b[39m \u001b[43mdtype\u001b[49m\u001b[43m(\u001b[49m\u001b[43marg1\u001b[49m\u001b[43m)\u001b[49m\u001b[38;5;241m.\u001b[39mtype\n\u001b[0;32m    418\u001b[0m \u001b[38;5;28;01mif\u001b[39;00m \u001b[38;5;129;01mnot\u001b[39;00m issubclass_(arg2, generic):\n\u001b[0;32m    419\u001b[0m     arg2 \u001b[38;5;241m=\u001b[39m dtype(arg2)\u001b[38;5;241m.\u001b[39mtype\n",
      "File \u001b[1;32mc:\\Python312\\Lib\\site-packages\\numpy\\core\\_dtype.py:46\u001b[0m, in \u001b[0;36m__repr__\u001b[1;34m(dtype)\u001b[0m\n\u001b[0;32m     45\u001b[0m \u001b[38;5;28;01mdef\u001b[39;00m \u001b[38;5;21m__repr__\u001b[39m(dtype):\n\u001b[1;32m---> 46\u001b[0m     arg_str \u001b[38;5;241m=\u001b[39m \u001b[43m_construction_repr\u001b[49m\u001b[43m(\u001b[49m\u001b[43mdtype\u001b[49m\u001b[43m,\u001b[49m\u001b[43m \u001b[49m\u001b[43minclude_align\u001b[49m\u001b[38;5;241;43m=\u001b[39;49m\u001b[38;5;28;43;01mFalse\u001b[39;49;00m\u001b[43m)\u001b[49m\n\u001b[0;32m     47\u001b[0m     \u001b[38;5;28;01mif\u001b[39;00m dtype\u001b[38;5;241m.\u001b[39misalignedstruct:\n\u001b[0;32m     48\u001b[0m         arg_str \u001b[38;5;241m=\u001b[39m arg_str \u001b[38;5;241m+\u001b[39m \u001b[38;5;124m\"\u001b[39m\u001b[38;5;124m, align=True\u001b[39m\u001b[38;5;124m\"\u001b[39m\n",
      "File \u001b[1;32mc:\\Python312\\Lib\\site-packages\\numpy\\core\\_dtype.py:100\u001b[0m, in \u001b[0;36m_construction_repr\u001b[1;34m(dtype, include_align, short)\u001b[0m\n\u001b[0;32m     98\u001b[0m     \u001b[38;5;28;01mreturn\u001b[39;00m _subarray_str(dtype)\n\u001b[0;32m     99\u001b[0m \u001b[38;5;28;01melse\u001b[39;00m:\n\u001b[1;32m--> 100\u001b[0m     \u001b[38;5;28;01mreturn\u001b[39;00m \u001b[43m_scalar_str\u001b[49m\u001b[43m(\u001b[49m\u001b[43mdtype\u001b[49m\u001b[43m,\u001b[49m\u001b[43m \u001b[49m\u001b[43mshort\u001b[49m\u001b[38;5;241;43m=\u001b[39;49m\u001b[43mshort\u001b[49m\u001b[43m)\u001b[49m\n",
      "File \u001b[1;32mc:\\Python312\\Lib\\site-packages\\numpy\\core\\_dtype.py:143\u001b[0m, in \u001b[0;36m_scalar_str\u001b[1;34m(dtype, short)\u001b[0m\n\u001b[0;32m    140\u001b[0m \u001b[38;5;28;01melif\u001b[39;00m dtype\u001b[38;5;241m.\u001b[39mtype \u001b[38;5;241m==\u001b[39m np\u001b[38;5;241m.\u001b[39mtimedelta64:\n\u001b[0;32m    141\u001b[0m     \u001b[38;5;28;01mreturn\u001b[39;00m \u001b[38;5;124m\"\u001b[39m\u001b[38;5;124m'\u001b[39m\u001b[38;5;132;01m%s\u001b[39;00m\u001b[38;5;124mm8\u001b[39m\u001b[38;5;132;01m%s\u001b[39;00m\u001b[38;5;124m'\u001b[39m\u001b[38;5;124m\"\u001b[39m \u001b[38;5;241m%\u001b[39m (byteorder, _datetime_metadata_str(dtype))\n\u001b[1;32m--> 143\u001b[0m \u001b[38;5;28;01melif\u001b[39;00m \u001b[43mnp\u001b[49m\u001b[38;5;241;43m.\u001b[39;49m\u001b[43missubdtype\u001b[49m\u001b[43m(\u001b[49m\u001b[43mdtype\u001b[49m\u001b[43m,\u001b[49m\u001b[43m \u001b[49m\u001b[43mnp\u001b[49m\u001b[38;5;241;43m.\u001b[39;49m\u001b[43mnumber\u001b[49m\u001b[43m)\u001b[49m:\n\u001b[0;32m    144\u001b[0m     \u001b[38;5;66;03m# Short repr with endianness, like '<f8'\u001b[39;00m\n\u001b[0;32m    145\u001b[0m     \u001b[38;5;28;01mif\u001b[39;00m short \u001b[38;5;129;01mor\u001b[39;00m dtype\u001b[38;5;241m.\u001b[39mbyteorder \u001b[38;5;129;01mnot\u001b[39;00m \u001b[38;5;129;01min\u001b[39;00m (\u001b[38;5;124m'\u001b[39m\u001b[38;5;124m=\u001b[39m\u001b[38;5;124m'\u001b[39m, \u001b[38;5;124m'\u001b[39m\u001b[38;5;124m|\u001b[39m\u001b[38;5;124m'\u001b[39m):\n\u001b[0;32m    146\u001b[0m         \u001b[38;5;28;01mreturn\u001b[39;00m \u001b[38;5;124m\"\u001b[39m\u001b[38;5;124m'\u001b[39m\u001b[38;5;132;01m%s\u001b[39;00m\u001b[38;5;132;01m%c\u001b[39;00m\u001b[38;5;132;01m%d\u001b[39;00m\u001b[38;5;124m'\u001b[39m\u001b[38;5;124m\"\u001b[39m \u001b[38;5;241m%\u001b[39m (byteorder, dtype\u001b[38;5;241m.\u001b[39mkind, dtype\u001b[38;5;241m.\u001b[39mitemsize)\n",
      "File \u001b[1;32mc:\\Python312\\Lib\\site-packages\\numpy\\core\\numerictypes.py:417\u001b[0m, in \u001b[0;36missubdtype\u001b[1;34m(arg1, arg2)\u001b[0m\n\u001b[0;32m    359\u001b[0m \u001b[38;5;250m\u001b[39m\u001b[38;5;124mr\u001b[39m\u001b[38;5;124;03m\"\"\"\u001b[39;00m\n\u001b[0;32m    360\u001b[0m \u001b[38;5;124;03mReturns True if first argument is a typecode lower/equal in type hierarchy.\u001b[39;00m\n\u001b[0;32m    361\u001b[0m \n\u001b[1;32m   (...)\u001b[0m\n\u001b[0;32m    414\u001b[0m \n\u001b[0;32m    415\u001b[0m \u001b[38;5;124;03m\"\"\"\u001b[39;00m\n\u001b[0;32m    416\u001b[0m \u001b[38;5;28;01mif\u001b[39;00m \u001b[38;5;129;01mnot\u001b[39;00m issubclass_(arg1, generic):\n\u001b[1;32m--> 417\u001b[0m     arg1 \u001b[38;5;241m=\u001b[39m \u001b[43mdtype\u001b[49m\u001b[43m(\u001b[49m\u001b[43marg1\u001b[49m\u001b[43m)\u001b[49m\u001b[38;5;241m.\u001b[39mtype\n\u001b[0;32m    418\u001b[0m \u001b[38;5;28;01mif\u001b[39;00m \u001b[38;5;129;01mnot\u001b[39;00m issubclass_(arg2, generic):\n\u001b[0;32m    419\u001b[0m     arg2 \u001b[38;5;241m=\u001b[39m dtype(arg2)\u001b[38;5;241m.\u001b[39mtype\n",
      "    \u001b[1;31m[... skipping similar frames: __repr__ at line 46 (355 times), _construction_repr at line 100 (355 times), _scalar_str at line 143 (355 times), issubdtype at line 417 (355 times)]\u001b[0m\n",
      "File \u001b[1;32mc:\\Python312\\Lib\\site-packages\\numpy\\core\\_dtype.py:46\u001b[0m, in \u001b[0;36m__repr__\u001b[1;34m(dtype)\u001b[0m\n\u001b[0;32m     45\u001b[0m \u001b[38;5;28;01mdef\u001b[39;00m \u001b[38;5;21m__repr__\u001b[39m(dtype):\n\u001b[1;32m---> 46\u001b[0m     arg_str \u001b[38;5;241m=\u001b[39m \u001b[43m_construction_repr\u001b[49m\u001b[43m(\u001b[49m\u001b[43mdtype\u001b[49m\u001b[43m,\u001b[49m\u001b[43m \u001b[49m\u001b[43minclude_align\u001b[49m\u001b[38;5;241;43m=\u001b[39;49m\u001b[38;5;28;43;01mFalse\u001b[39;49;00m\u001b[43m)\u001b[49m\n\u001b[0;32m     47\u001b[0m     \u001b[38;5;28;01mif\u001b[39;00m dtype\u001b[38;5;241m.\u001b[39misalignedstruct:\n\u001b[0;32m     48\u001b[0m         arg_str \u001b[38;5;241m=\u001b[39m arg_str \u001b[38;5;241m+\u001b[39m \u001b[38;5;124m\"\u001b[39m\u001b[38;5;124m, align=True\u001b[39m\u001b[38;5;124m\"\u001b[39m\n",
      "File \u001b[1;32mc:\\Python312\\Lib\\site-packages\\numpy\\core\\_dtype.py:100\u001b[0m, in \u001b[0;36m_construction_repr\u001b[1;34m(dtype, include_align, short)\u001b[0m\n\u001b[0;32m     98\u001b[0m     \u001b[38;5;28;01mreturn\u001b[39;00m _subarray_str(dtype)\n\u001b[0;32m     99\u001b[0m \u001b[38;5;28;01melse\u001b[39;00m:\n\u001b[1;32m--> 100\u001b[0m     \u001b[38;5;28;01mreturn\u001b[39;00m \u001b[43m_scalar_str\u001b[49m\u001b[43m(\u001b[49m\u001b[43mdtype\u001b[49m\u001b[43m,\u001b[49m\u001b[43m \u001b[49m\u001b[43mshort\u001b[49m\u001b[38;5;241;43m=\u001b[39;49m\u001b[43mshort\u001b[49m\u001b[43m)\u001b[49m\n",
      "File \u001b[1;32mc:\\Python312\\Lib\\site-packages\\numpy\\core\\_dtype.py:143\u001b[0m, in \u001b[0;36m_scalar_str\u001b[1;34m(dtype, short)\u001b[0m\n\u001b[0;32m    140\u001b[0m \u001b[38;5;28;01melif\u001b[39;00m dtype\u001b[38;5;241m.\u001b[39mtype \u001b[38;5;241m==\u001b[39m np\u001b[38;5;241m.\u001b[39mtimedelta64:\n\u001b[0;32m    141\u001b[0m     \u001b[38;5;28;01mreturn\u001b[39;00m \u001b[38;5;124m\"\u001b[39m\u001b[38;5;124m'\u001b[39m\u001b[38;5;132;01m%s\u001b[39;00m\u001b[38;5;124mm8\u001b[39m\u001b[38;5;132;01m%s\u001b[39;00m\u001b[38;5;124m'\u001b[39m\u001b[38;5;124m\"\u001b[39m \u001b[38;5;241m%\u001b[39m (byteorder, _datetime_metadata_str(dtype))\n\u001b[1;32m--> 143\u001b[0m \u001b[38;5;28;01melif\u001b[39;00m \u001b[43mnp\u001b[49m\u001b[38;5;241;43m.\u001b[39;49m\u001b[43missubdtype\u001b[49m\u001b[43m(\u001b[49m\u001b[43mdtype\u001b[49m\u001b[43m,\u001b[49m\u001b[43m \u001b[49m\u001b[43mnp\u001b[49m\u001b[38;5;241;43m.\u001b[39;49m\u001b[43mnumber\u001b[49m\u001b[43m)\u001b[49m:\n\u001b[0;32m    144\u001b[0m     \u001b[38;5;66;03m# Short repr with endianness, like '<f8'\u001b[39;00m\n\u001b[0;32m    145\u001b[0m     \u001b[38;5;28;01mif\u001b[39;00m short \u001b[38;5;129;01mor\u001b[39;00m dtype\u001b[38;5;241m.\u001b[39mbyteorder \u001b[38;5;129;01mnot\u001b[39;00m \u001b[38;5;129;01min\u001b[39;00m (\u001b[38;5;124m'\u001b[39m\u001b[38;5;124m=\u001b[39m\u001b[38;5;124m'\u001b[39m, \u001b[38;5;124m'\u001b[39m\u001b[38;5;124m|\u001b[39m\u001b[38;5;124m'\u001b[39m):\n\u001b[0;32m    146\u001b[0m         \u001b[38;5;28;01mreturn\u001b[39;00m \u001b[38;5;124m\"\u001b[39m\u001b[38;5;124m'\u001b[39m\u001b[38;5;132;01m%s\u001b[39;00m\u001b[38;5;132;01m%c\u001b[39;00m\u001b[38;5;132;01m%d\u001b[39;00m\u001b[38;5;124m'\u001b[39m\u001b[38;5;124m\"\u001b[39m \u001b[38;5;241m%\u001b[39m (byteorder, dtype\u001b[38;5;241m.\u001b[39mkind, dtype\u001b[38;5;241m.\u001b[39mitemsize)\n",
      "File \u001b[1;32mc:\\Python312\\Lib\\site-packages\\numpy\\core\\numerictypes.py:417\u001b[0m, in \u001b[0;36missubdtype\u001b[1;34m(arg1, arg2)\u001b[0m\n\u001b[0;32m    359\u001b[0m \u001b[38;5;250m\u001b[39m\u001b[38;5;124mr\u001b[39m\u001b[38;5;124;03m\"\"\"\u001b[39;00m\n\u001b[0;32m    360\u001b[0m \u001b[38;5;124;03mReturns True if first argument is a typecode lower/equal in type hierarchy.\u001b[39;00m\n\u001b[0;32m    361\u001b[0m \n\u001b[1;32m   (...)\u001b[0m\n\u001b[0;32m    414\u001b[0m \n\u001b[0;32m    415\u001b[0m \u001b[38;5;124;03m\"\"\"\u001b[39;00m\n\u001b[0;32m    416\u001b[0m \u001b[38;5;28;01mif\u001b[39;00m \u001b[38;5;129;01mnot\u001b[39;00m issubclass_(arg1, generic):\n\u001b[1;32m--> 417\u001b[0m     arg1 \u001b[38;5;241m=\u001b[39m \u001b[43mdtype\u001b[49m\u001b[43m(\u001b[49m\u001b[43marg1\u001b[49m\u001b[43m)\u001b[49m\u001b[38;5;241m.\u001b[39mtype\n\u001b[0;32m    418\u001b[0m \u001b[38;5;28;01mif\u001b[39;00m \u001b[38;5;129;01mnot\u001b[39;00m issubclass_(arg2, generic):\n\u001b[0;32m    419\u001b[0m     arg2 \u001b[38;5;241m=\u001b[39m dtype(arg2)\u001b[38;5;241m.\u001b[39mtype\n",
      "\u001b[1;31mRecursionError\u001b[0m: maximum recursion depth exceeded"
     ]
    }
   ],
   "source": [
    "import scipy.stats as stats\n",
    "import itertools\n",
    "\n",
    "top3 = ('top3', [2, 1, 0, 3, 7, 6, 10, 8, 4, 9, 5])\n",
    "top5 = ('top5', [2, 0, 1, 7, 3, 6, 10, 4, 9, 5, 8])\n",
    "top1 = ('top1', [2, 0, 1, 3, 6, 10, 5, 8, 4, 7, 9])\n",
    "\n",
    "for x, y in itertools.combinations([top3, top5, top1], 2):\n",
    "    print(x[0], 'against', y[0])\n",
    "    print(stats.kendalltau(x[1], y[1]))"
   ]
  },
  {
   "cell_type": "code",
   "execution_count": 17,
   "metadata": {},
   "outputs": [],
   "source": [
    "import os\n",
    "\n",
    "def load_all(top1_3_5_pickle_id, city_name, times):\n",
    "    cf = SimilarityTests()\n",
    "    lm = LMEO()\n",
    "    \n",
    "    # Loads the file paths checking to see if they already exists.\n",
    "    \n",
    "    prompt_dict = cf.get_prompt_dict()\n",
    "    # Will be easier to just hard code this.\n",
    "    top1_prompt = prompt_dict['top1'].format(city_name)\n",
    "    top3_prompt = prompt_dict['topk'].format('three', city_name)\n",
    "    top5_prompt = prompt_dict['topk'].format('five', city_name)\n",
    "\n",
    "    # Checking for top1\n",
    "    if os.path.exists(fr'.\\pickles\\top_1_{top1_3_5_pickle_id}.pkl'):\n",
    "            print(\"Loading Previously Generated Top1.\")\n",
    "            with open(fr'.\\pickles\\top_1_{top1_3_5_pickle_id}', 'rb') as file:\n",
    "                top1 = pickle.load(file)\n",
    "    else:\n",
    "        print(\"Generating Top1.\")\n",
    "        top1 = cf.order_top_1(top1_3_5_pickle_id, top1_prompt, 1000)\n",
    "    \n",
    "    if os.path.exists(fr'.\\pickles\\top_3_{top1_3_5_pickle_id}.pkl'):\n",
    "            print(\"Loading Previously Generated Top3.\")\n",
    "            with open(fr'.\\pickles\\top_3_{top1_3_5_pickle_id}', 'rb') as file:\n",
    "                top3 = pickle.load(file)\n",
    "    else:\n",
    "        print(\"Generating Top3.\")\n",
    "        top3 = lm.order_set(top3_prompt, top1_3_5_pickle_id, times, 3, prefix='top_3')\n",
    "\n",
    "    if os.path.exists(fr'.\\pickles\\top_5_{top1_3_5_pickle_id}.pkl'):\n",
    "        print(\"Loading Previously Generated Top5.\")\n",
    "        with open(fr'.\\pickles\\top_5_{top1_3_5_pickle_id}', 'rb') as file:\n",
    "                top5 = pickle.load(file)\n",
    "    else:\n",
    "        print(\"Generating Top5.\")\n",
    "        top5 = lm.order_set(top5_prompt, top1_3_5_pickle_id, times, 5, prefix='top_5')\n",
    "\n",
    "    return top1, top3, top5\n",
    "\n",
    "def load_all(top1_3_5_pickle_id, city_name, times):\n",
    "    cf = SimilarityTests()\n",
    "    lm = LMEO()\n",
    "    \n",
    "    # Loads the file paths checking to see if they already exists.\n",
    "    \n",
    "    prompt_dict = cf.get_prompt_dict()\n",
    "    # Will be easier to just hard code this.\n",
    "    top1_prompt = prompt_dict['top1'].format(city_name)\n",
    "    top3_prompt = prompt_dict['topk'].format('three', city_name)\n",
    "    top5_prompt = prompt_dict['topk'].format('five', city_name)\n",
    "\n",
    "\n",
    "    top1 = cf.order_top_1(top1_3_5_pickle_id, top1_prompt, 1000)\n",
    "    \n",
    "    top3 = lm.order_set(top3_prompt, top1_3_5_pickle_id, times, 3, prefix='top_3')\n",
    "\n",
    "    top5 = lm.order_set(top5_prompt, top1_3_5_pickle_id, times, 5, prefix='top_5')\n",
    "\n",
    "    return top1, top3, top5\n",
    "\n",
    "def calculate_params(top1, top3, top5, target_words):\n",
    "    print('Begining top3')\n",
    "    try:\n",
    "        top3_params = st.topk_ranks_to_params(top3, target_words)\n",
    "    except RuntimeError:\n",
    "        print(\"Recursion Error for top3. Using alpha\")\n",
    "        top3_params = st.topk_ranks_to_params(top3, target_words, alpha=10**-10)\n",
    "\n",
    "    print('Begining top5')\n",
    "    try:\n",
    "        top5_params = st.topk_ranks_to_params(top5, target_words)\n",
    "    except RuntimeError:\n",
    "        print(\"Recursion Error for top5. Using alpha\")\n",
    "        top5_params = st.topk_ranks_to_params(top5, target_words, alpha=10**-10)\n",
    "    \n",
    "    print('Begining top1')\n",
    "    try:\n",
    "        top1_params = st.top1_ranks_to_params(top1, target_words)\n",
    "    except RuntimeError:\n",
    "        print(\"Recursion Error for top1. Using alpha\")\n",
    "        top1_params = st.top1_ranks_to_params(top1, target_words, alpha=10**-10)\n",
    "\n",
    "    param_dict = {'top1': top1_params, 'top3': top3_params, 'top5': top5_params}\n",
    "\n",
    "    num_to_id, id_to_num = st.get_conversions(target_words)\n",
    "\n",
    "    top3_ordering = [id_to_num[x[1]] for x in top3_params]\n",
    "    top5_ordering = [id_to_num[x[1]] for x in top5_params]\n",
    "    top1_ordering = [id_to_num[x[1]] for x in top1_params]\n",
    "\n",
    "    ordering_dict = {'top3': top3_ordering, 'top5': top5_ordering, 'top1': top1_ordering}\n",
    "\n",
    "    return param_dict, ordering_dict, num_to_id\n",
    "                \n",
    "def do_everything(top1_3_5_pickle_id, city_name, target_words, times):\n",
    "    top1, top3, top5 = load_all(top1_3_5_pickle_id, city_name, times)\n",
    "    param_dict, ordering_dict, num_to_id = calculate_params(top1, top3, top5, target_words)\n",
    "    return param_dict, ordering_dict, num_to_id"
   ]
  },
  {
   "cell_type": "markdown",
   "metadata": {},
   "source": [
    "## Birmingham"
   ]
  },
  {
   "cell_type": "code",
   "execution_count": 18,
   "metadata": {},
   "outputs": [
    {
     "name": "stdout",
     "output_type": "stream",
     "text": [
      "Loading Previously Generated Ranks.\n",
      "Loading Previously Generated Ranks.\n",
      "Loading Previously Generated Ranks.\n"
     ]
    },
    {
     "name": "stderr",
     "output_type": "stream",
     "text": [
      "c:\\Users\\chris\\Documents\\LMEO\\LMEO\\Experiments\\..\\methods\\SimilarityTests.py:20: RuntimeWarning: divide by zero encountered in log\n",
      "  params = np.log(weights)\n",
      "c:\\Users\\chris\\Documents\\LMEO\\LMEO\\Experiments\\..\\methods\\SimilarityTests.py:21: RuntimeWarning: invalid value encountered in subtract\n",
      "  return params - params.mean()\n"
     ]
    },
    {
     "name": "stdout",
     "output_type": "stream",
     "text": [
      "Recursion Error for top1. Using alpha\n",
      "{'top1': [(9.40062702310072, 'Hyatt'), (9.05304680906799, 'almaison'), (8.665930839628217, 'dgbaston'), (8.330669990193542, 'OTHER'), (7.297654984012779, 'Vin'), (6.855822231735063, 'Grand'), (6.504424344898734, 'Marriot'), (6.45035712362875, 'Metro'), (6.393198709789129, 'Hampton'), (5.351744834971751, 'Indigo'), (3.55998536582703, 'Staying'), (-19.465865564213427, 'ACHotel'), (-19.465865564213427, 'adisson'), (-19.465865564213427, 'BirminghamCityCentre'), (-19.465865564213427, 'Cube')], 'top3': [(1.8563965978207309, 'Hyatt'), (1.7025278963445807, 'Metro'), (1.6706102108212786, 'Grand'), (0.799488442833882, 'Cube'), (0.4023150000687098, 'adisson'), (0.2975245947008942, 'almaison'), (0.15810590037076366, 'Marriot'), (0.09844730719705219, 'dgbaston'), (-0.09149291439853136, 'Staying'), (-0.36080086428459135, 'OTHER'), (-0.8281365826019932, 'ACHotel'), (-0.9046923199499842, 'Vin'), (-0.9425475712887664, 'Indigo'), (-1.8605284691647093, 'BirminghamCityCentre'), (-1.997217228469315, 'Hampton')], 'top5': [(2.61461477243126, 'Metro'), (1.5731626215605417, 'Hyatt'), (0.9447611797025532, 'almaison'), (0.4440997505593098, 'Vin'), (0.39485744764380726, 'Grand'), (-0.004609160080829233, 'Staying'), (-0.09462585453994876, 'Indigo'), (-0.15120118373401525, 'dgbaston'), (-0.25534918262593986, 'Marriot'), (-0.523034080116804, 'Hampton'), (-0.5384386516123792, 'OTHER'), (-0.6713968934521765, 'adisson'), (-0.7372581795834886, 'Cube'), (-0.9737340933742159, 'ACHotel'), (-2.0218484927776736, 'BirminghamCityCentre')]}\n",
      "{'top3': [1, 2, 10, 8, 4, 5, 3, 9, 11, 14, 0, 7, 12, 6, 13], 'top5': [2, 1, 5, 7, 10, 11, 12, 9, 3, 13, 14, 4, 8, 0, 6], 'top1': [1, 5, 9, 14, 7, 10, 3, 2, 13, 12, 11, 0, 4, 6, 8]}\n",
      "{0: 'ACHotel', 1: 'Hyatt', 2: 'Metro', 3: 'Marriot', 4: 'adisson', 5: 'almaison', 6: 'BirminghamCityCentre', 7: 'Vin', 8: 'Cube', 9: 'dgbaston', 10: 'Grand', 11: 'Staying', 12: 'Indigo', 13: 'Hampton', 14: 'OTHER'}\n"
     ]
    }
   ],
   "source": [
    "birmingham_words = st.get_words_dict()['Birmingham']\n",
    "birmingham_p_dict, birmingham_o_dict, birmingham_n = do_everything('Birmingham1000', 'Birmingham', birmingham_words, 1000)\n",
    "print(birmingham_p_dict)\n",
    "print(birmingham_o_dict)\n",
    "print(birmingham_n)"
   ]
  },
  {
   "cell_type": "code",
   "execution_count": 21,
   "metadata": {},
   "outputs": [
    {
     "name": "stdout",
     "output_type": "stream",
     "text": [
      "['ACHotel', 'Hyatt', 'Metro', 'Marriot', 'adisson', 'almaison', 'BirminghamCityCentre', 'Vin', 'Cube', 'dgbaston', 'Grand', 'Staying', 'Indigo', 'Hampton']\n",
      "Loading Previously Generated Ranks.\n",
      "Loading Previously Generated Ranks.\n",
      "Loading Previously Generated Ranks.\n"
     ]
    },
    {
     "name": "stderr",
     "output_type": "stream",
     "text": [
      "c:\\Users\\chris\\Documents\\LMEO\\LMEO\\Experiments\\..\\methods\\SimilarityTests.py:20: RuntimeWarning: divide by zero encountered in log\n",
      "  params = np.log(weights)\n",
      "c:\\Users\\chris\\Documents\\LMEO\\LMEO\\Experiments\\..\\methods\\SimilarityTests.py:21: RuntimeWarning: invalid value encountered in subtract\n",
      "  return params - params.mean()\n"
     ]
    },
    {
     "name": "stdout",
     "output_type": "stream",
     "text": [
      "Recursion Error for top1. Using alpha\n"
     ]
    }
   ],
   "source": [
    "new_birmingham_words = ['ACHotel', 'Hyatt', 'Metro', 'Marriot', 'adisson', 'almaison', 'Vin', 'Cube', 'dgbaston', 'Grand', 'Staying', 'Indigo']\n",
    "birmingham_p_dict, birmingham_o_dict, birmingham_n = do_everything('Birmingham1000', 'Birmingham', new_birmingham_words, 1000)\n"
   ]
  },
  {
   "cell_type": "code",
   "execution_count": 22,
   "metadata": {},
   "outputs": [
    {
     "name": "stdout",
     "output_type": "stream",
     "text": [
      "top3 [1, 2, 9, 4, 7, 5, 3, 8, 10, 0, 11, 6, 12]\n",
      "top5 [2, 1, 5, 6, 9, 10, 11, 8, 3, 12, 4, 7, 0]\n",
      "top1 [1, 5, 8, 12, 6, 9, 3, 2, 11, 10, 0, 4, 7]\n"
     ]
    }
   ],
   "source": [
    "for key, value in birmingham_o_dict.items():\n",
    "    print(key, value)"
   ]
  },
  {
   "cell_type": "markdown",
   "metadata": {},
   "source": [
    "## Newcastle"
   ]
  },
  {
   "cell_type": "code",
   "execution_count": 23,
   "metadata": {},
   "outputs": [
    {
     "name": "stdout",
     "output_type": "stream",
     "text": [
      "Ordering batch 0.\n",
      "Ordering batch 1.\n",
      "Ordering batch 2.\n",
      "Ordering batch 3.\n",
      "Ordering batch 4.\n",
      "Ordering batch 5.\n",
      "Ordering batch 6.\n",
      "Loading Previously Generated Ranks.\n",
      "Loading Previously Generated Ranks.\n"
     ]
    },
    {
     "name": "stderr",
     "output_type": "stream",
     "text": [
      "c:\\Users\\chris\\Documents\\LMEO\\LMEO\\Experiments\\..\\methods\\SimilarityTests.py:86: RuntimeWarning: invalid value encountered in divide\n",
      "  params = log_transform((nums + alpha) / (denoms + alpha))\n"
     ]
    },
    {
     "name": "stdout",
     "output_type": "stream",
     "text": [
      "Recursion Error for top3. Using alpha\n",
      "Recursion Error for top5. Using alpha\n"
     ]
    },
    {
     "name": "stderr",
     "output_type": "stream",
     "text": [
      "c:\\Users\\chris\\Documents\\LMEO\\LMEO\\Experiments\\..\\methods\\SimilarityTests.py:20: RuntimeWarning: divide by zero encountered in log\n",
      "  params = np.log(weights)\n",
      "c:\\Users\\chris\\Documents\\LMEO\\LMEO\\Experiments\\..\\methods\\SimilarityTests.py:21: RuntimeWarning: invalid value encountered in subtract\n",
      "  return params - params.mean()\n"
     ]
    },
    {
     "name": "stdout",
     "output_type": "stream",
     "text": [
      "Recursion Error for top1. Using alpha\n"
     ]
    }
   ],
   "source": [
    "newcastle_words = st.get_words_dict()['Newcastle']\n",
    "newcastle_p_dict, newcastle_o_dict, newcastle_n = do_everything('Newcastle1000', 'Newcastle', newcastle_words, 1000)\n"
   ]
  },
  {
   "cell_type": "code",
   "execution_count": 25,
   "metadata": {},
   "outputs": [
    {
     "name": "stdout",
     "output_type": "stream",
     "text": [
      "top3 [10, 6, 8, 2, 11, 1, 6, 7, 4, 9, 0, 5]\n",
      "top5 [5, 0, 1, 2, 6, 4, 6, 7, 8, 10, 9, 11]\n",
      "top1 [6, 2, 11, 0, 10, 4, 1, 9, 5, 7, 8, 6]\n",
      "{0: 'Crowne', 1: 'Grey', 2: 'Malmaison', 3: 'Dene', 4: 'Vin', 5: 'County', 6: 'Dene', 7: 'Sandman', 8: 'Indigo', 9: 'Hilton', 10: 'Jury', 11: 'OTHER'}\n"
     ]
    }
   ],
   "source": [
    "for key, value in newcastle_o_dict.items():\n",
    "    print(key, value)\n",
    "print(newcastle_n)"
   ]
  },
  {
   "cell_type": "markdown",
   "metadata": {},
   "source": [
    "## Bristol"
   ]
  },
  {
   "cell_type": "code",
   "execution_count": 26,
   "metadata": {},
   "outputs": [
    {
     "name": "stdout",
     "output_type": "stream",
     "text": [
      "Ordering batch 0.\n",
      "Ordering batch 1.\n",
      "Ordering batch 2.\n",
      "Ordering batch 3.\n",
      "Ordering batch 4.\n",
      "Ordering batch 5.\n",
      "Ordering batch 6.\n",
      "Ordering batch 0.\n",
      "Ordering batch 1.\n",
      "Ordering batch 2.\n",
      "Ordering batch 3.\n",
      "Ordering batch 4.\n",
      "Ordering batch 5.\n",
      "Ordering batch 6.\n",
      "Ordering batch 0.\n",
      "Ordering batch 1.\n",
      "Ordering batch 2.\n",
      "Ordering batch 3.\n",
      "Ordering batch 4.\n",
      "Ordering batch 5.\n",
      "Ordering batch 6.\n"
     ]
    },
    {
     "name": "stderr",
     "output_type": "stream",
     "text": [
      "c:\\Users\\chris\\Documents\\LMEO\\LMEO\\Experiments\\..\\methods\\SimilarityTests.py:86: RuntimeWarning: invalid value encountered in divide\n",
      "  params = log_transform((nums + alpha) / (denoms + alpha))\n",
      "c:\\Users\\chris\\Documents\\LMEO\\LMEO\\Experiments\\..\\methods\\SimilarityTests.py:20: RuntimeWarning: divide by zero encountered in log\n",
      "  params = np.log(weights)\n"
     ]
    },
    {
     "name": "stdout",
     "output_type": "stream",
     "text": [
      "Recursion Error for top3. Using alpha\n",
      "Recursion Error for top5. Using alpha\n"
     ]
    },
    {
     "name": "stderr",
     "output_type": "stream",
     "text": [
      "c:\\Users\\chris\\Documents\\LMEO\\LMEO\\Experiments\\..\\methods\\SimilarityTests.py:21: RuntimeWarning: invalid value encountered in subtract\n",
      "  return params - params.mean()\n"
     ]
    },
    {
     "name": "stdout",
     "output_type": "stream",
     "text": [
      "Recursion Error for top1. Using alpha\n"
     ]
    }
   ],
   "source": [
    "bristol_words = st.get_words_dict()['Bristol']\n",
    "bristol_p_dict, bristol_o_dict, bristol_n = do_everything('Bristol1000', 'Bristol', bristol_words, 1000)"
   ]
  },
  {
   "cell_type": "code",
   "execution_count": 28,
   "metadata": {},
   "outputs": [
    {
     "name": "stdout",
     "output_type": "stream",
     "text": [
      "top3 [4, 0, 13, 7, 9, 12, 1, 8, 5, 6, 3, 2, 10, 11]\n",
      "top5 [0, 1, 3, 4, 6, 7, 9, 10, 11, 12, 2, 5, 13, 8]\n",
      "top1 [13, 5, 0, 4, 2, 3, 8, 1, 9, 6, 7, 10, 11, 12]\n",
      "{0: 'Marriott', 1: 'Gainsborough', 2: 'Hilton', 3: 'Mercure', 4: 'arbour', 5: 'Radisson', 6: 'Avon', 7: 'DoubleTree', 8: 'Berkeley', 9: 'ibis', 10: 'Future', 11: 'ztec', 12: 'gabel', 13: 'OTHER'}\n"
     ]
    }
   ],
   "source": [
    "for key, value in bristol_o_dict.items():\n",
    "    print(key, value)\n",
    "print(bristol_n)"
   ]
  },
  {
   "cell_type": "markdown",
   "metadata": {},
   "source": [
    "Other being first is a bit perculiar. Missing Bristol hotel not that deep."
   ]
  },
  {
   "cell_type": "code",
   "execution_count": 29,
   "metadata": {},
   "outputs": [],
   "source": [
    "with open(r'C:\\Users\\chris\\Documents\\LMEO\\LMEO\\Experiments\\pickles\\top_1_Bristol1000.pkl', 'rb') as f:\n",
    "    bristol_top1 = pickle.load(f)"
   ]
  },
  {
   "cell_type": "code",
   "execution_count": 30,
   "metadata": {},
   "outputs": [
    {
     "name": "stdout",
     "output_type": "stream",
     "text": [
      "[['The Bristol Hotel'],\n",
      " ['The Bristol Hotel'],\n",
      " ['The Bristol Hotel.'],\n",
      " ['Hotel du Vin & Bistro Bristol'],\n",
      " ['The Bristol Hotel'],\n",
      " ['Radisson Blu Hotel, Bristol'],\n",
      " ['Radisson Blu Hotel, Bristol'],\n",
      " ['The Bristol Hotel'],\n",
      " ['The Bristol Hotel'],\n",
      " ['Radisson Blu Hotel, Bristol'],\n",
      " ['The Bristol Hotel'],\n",
      " ['The Bristol Hotel'],\n",
      " ['The Bristol Hotel'],\n",
      " ['Radisson Blu Hotel, Bristol.'],\n",
      " ['Radisson Blu Hotel, Bristol'],\n",
      " ['The Bristol Hotel.'],\n",
      " ['The Bristol Hotel'],\n",
      " ['The Bristol Hotel'],\n",
      " ['The Bristol Hotel'],\n",
      " ['Radisson Blu Hotel, Bristol'],\n",
      " ['The Bristol Hotel'],\n",
      " ['Hotel du Vin & Bistro Bristol'],\n",
      " ['Radisson Blu Hotel, Bristol'],\n",
      " ['Radisson Blu Hotel, Bristol'],\n",
      " ['Radisson Blu Hotel, Bristol'],\n",
      " ['Radisson Blu Hotel, Bristol'],\n",
      " ['The Bristol Hotel'],\n",
      " ['The Bristol Hotel'],\n",
      " ['The Bristol Hotel'],\n",
      " ['The Bristol Hotel'],\n",
      " ['The Bristol Hotel'],\n",
      " ['The Bristol Hotel'],\n",
      " ['The Bristol Hotel'],\n",
      " ['Bristol Harbour Hotel & Spa'],\n",
      " ['The Bristol Hotel'],\n",
      " ['The Bristol Hotel'],\n",
      " ['The Bristol Hotel'],\n",
      " ['The Bristol Hotel'],\n",
      " ['Bristol Harbour Hotel & Spa'],\n",
      " ['The Bristol Hotel'],\n",
      " ['The Bristol Hotel'],\n",
      " ['Radisson Blu Hotel, Bristol'],\n",
      " ['The Bristol Hotel'],\n",
      " ['The Bristol Hotel'],\n",
      " ['Radisson Blu Hotel, Bristol'],\n",
      " ['The Bristol Hotel'],\n",
      " ['Bristol Marriott Royal Hotel'],\n",
      " ['The Bristol Hotel'],\n",
      " ['Radisson Blu Hotel, Bristol'],\n",
      " ['Hampton by Hilton Bristol City Centre'],\n",
      " ['The Bristol Hotel'],\n",
      " ['Radisson Blu Hotel, Bristol'],\n",
      " ['The Bristol Hotel'],\n",
      " ['Radisson Blu Hotel, Bristol'],\n",
      " ['Radisson Blu Hotel, Bristol'],\n",
      " ['The Bristol Hotel.'],\n",
      " ['Hotel du Vin & Bistro Bristol'],\n",
      " ['Radisson Blu Hotel, Bristol.'],\n",
      " ['The Bristol Marriott Royal Hotel'],\n",
      " ['Bristol Harbour Hotel & Spa'],\n",
      " ['Radisson Blu Hotel, Bristol'],\n",
      " ['The Bristol Hotel'],\n",
      " ['The Bristol Marriott Royal Hotel'],\n",
      " ['Radisson Blu Hotel, Bristol'],\n",
      " ['Hotel du Vin & Bistro Bristol'],\n",
      " ['The Bristol Hotel'],\n",
      " ['The Bristol Hotel'],\n",
      " ['Clifton House Hotel'],\n",
      " ['Radisson Blu Hotel Bristol'],\n",
      " ['The Bristol Hotel'],\n",
      " ['The Bristol Marriott Royal Hotel'],\n",
      " ['Novotel Bristol Centre.'],\n",
      " ['The Bristol Hotel'],\n",
      " ['Bristol Marriott Royal Hotel'],\n",
      " ['The Bristol Hotel'],\n",
      " ['The Bristol Hotel'],\n",
      " ['The Bristol Hotel'],\n",
      " ['Bristol Harbour Hotel & Spa'],\n",
      " ['The Bristol Hotel'],\n",
      " ['The Bristol Hotel.'],\n",
      " ['The Bristol Hotel'],\n",
      " ['Berkeley Square Hotel.'],\n",
      " ['The Bristol Hotel'],\n",
      " ['The Bristol Hotel'],\n",
      " ['The Bristol Hotel.'],\n",
      " ['Bristol Harbour Hotel & Spa'],\n",
      " ['Radisson Blu Hotel, Bristol'],\n",
      " ['The Bristol Hotel'],\n",
      " ['The Bristol Hotel'],\n",
      " ['The Bristol Hotel'],\n",
      " ['The Bristol Hotel'],\n",
      " ['The Bristol Hotel'],\n",
      " ['The Bristol Hotel'],\n",
      " ['Mercure Bristol Grand Hotel'],\n",
      " ['The Bristol Hotel.'],\n",
      " ['The Bristol Hotel'],\n",
      " ['Hampton by Hilton Bristol City Centre'],\n",
      " ['Hotel du Vin & Bistro Bristol'],\n",
      " ['The Bristol Hotel'],\n",
      " ['The Bristol Hotel']]\n"
     ]
    }
   ],
   "source": [
    "pprint(bristol_top1[:100])"
   ]
  }
 ],
 "metadata": {
  "kernelspec": {
   "display_name": "Python 3",
   "language": "python",
   "name": "python3"
  },
  "language_info": {
   "codemirror_mode": {
    "name": "ipython",
    "version": 3
   },
   "file_extension": ".py",
   "mimetype": "text/x-python",
   "name": "python",
   "nbconvert_exporter": "python",
   "pygments_lexer": "ipython3",
   "version": "3.12.1"
  }
 },
 "nbformat": 4,
 "nbformat_minor": 2
}
