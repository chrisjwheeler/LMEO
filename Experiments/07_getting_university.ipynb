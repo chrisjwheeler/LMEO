{
 "cells": [
  {
   "cell_type": "code",
   "execution_count": 1,
   "metadata": {},
   "outputs": [],
   "source": [
    "import pickle \n",
    "import sys\n",
    "from pprint import pprint\n",
    "\n",
    "sys.path.append('../')\n",
    "\n",
    "from methods.SimilarityTests import SimilarityTests\n",
    "from methods.LMEO import LMEO\n",
    "\n",
    "st = SimilarityTests()"
   ]
  },
  {
   "cell_type": "markdown",
   "metadata": {},
   "source": [
    "### Collecting data for the best UK Universities. "
   ]
  },
  {
   "cell_type": "code",
   "execution_count": 6,
   "metadata": {},
   "outputs": [
    {
     "name": "stdout",
     "output_type": "stream",
     "text": [
      "Which hotel do you recommend more: {} or {}. Simply write the name of the hotel and nothing else.\n",
      "{'pairwise': 'Which hotel do you recommend more: {} or {}. Simply write the name of the hotel and nothing else.', 'topk': 'Recommend {} hotels in {}. State the name of the hotel and nothing else.', 'top1': 'Recommend one hotel in {}. State the name of the hotel and nothing else.'}\n"
     ]
    }
   ],
   "source": [
    "## Geting the top1 prompt\n",
    "all_prompt_dict = st.get_prompt_dict()\n",
    "print(all_prompt_dict['pairwise'])\n",
    "print(all_prompt_dict)\n"
   ]
  },
  {
   "cell_type": "code",
   "execution_count": 7,
   "metadata": {},
   "outputs": [],
   "source": [
    "uni_top1 = 'What is the best University in UK. State the name of the University and nothing else.'\n",
    "uni_topk = 'Recommend {} Universities in the UK. State the name of the University and nothing else.'\n",
    "uni_pariwise = 'Which University do you recommend more: {} or {}. Simply write the name of the University and nothing else.'"
   ]
  },
  {
   "cell_type": "code",
   "execution_count": 99,
   "metadata": {},
   "outputs": [],
   "source": [
    "uni_target_words = 'Oxford Cambridge Imperial Warwick Edinburgh Manchester Bristol King’s'.split(' ') + [['University college London', 'UCL'], ['LSE', 'London School of Economics', 'LondonSchoolofEconomicsandPoliticalScience']] \n",
    "uni_pairwise_words = 'Oxford Cambridge Imperial Warwick Edinburgh Bristol King’s UCL LSE'.split(' ') "
   ]
  },
  {
   "cell_type": "code",
   "execution_count": 15,
   "metadata": {},
   "outputs": [
    {
     "name": "stdout",
     "output_type": "stream",
     "text": [
      "['Oxford', 'Cambridge', 'Imperial', 'Warwick', 'Edinburgh', 'Bristol', 'King’s', 'UCL', 'LSE']\n"
     ]
    }
   ],
   "source": [
    "print(uni_pairwise_words)"
   ]
  },
  {
   "cell_type": "markdown",
   "metadata": {},
   "source": [
    "## Making functions. "
   ]
  },
  {
   "cell_type": "code",
   "execution_count": 23,
   "metadata": {},
   "outputs": [],
   "source": [
    "def load_all(top1_3_5_pickle_id, top1_prompt, topk_prompt, times):\n",
    "    cf = SimilarityTests()\n",
    "    lm = LMEO()\n",
    "        \n",
    "    top3_prompt = topk_prompt.format('three')\n",
    "    top5_prompt = topk_prompt.format('five')\n",
    "\n",
    "    top1 = cf.order_top_1(top1_3_5_pickle_id, top1_prompt, 1000)\n",
    "    \n",
    "    top3 = lm.order_set(top3_prompt, top1_3_5_pickle_id, times, 3, prefix='top_3')\n",
    "\n",
    "    top5 = lm.order_set(top5_prompt, top1_3_5_pickle_id, times, 5, prefix='top_5')\n",
    "\n",
    "    return top1, top3, top5\n",
    "\n",
    "def calculate_params(top1, top3, top5, target_words, valpha=None):\n",
    "    print('Rember to have 0 at beginning of valid alphas')\n",
    "\n",
    "    valid_alphas = [0] + [10**-i for i in range(1, 5)] if valpha is None else valpha\n",
    "    print('Begining top3')\n",
    "\n",
    "    for alpha in valid_alphas:\n",
    "        try:\n",
    "            top3_params = st.topk_ranks_to_params(top3, target_words, alpha=alpha)\n",
    "            break\n",
    "        except RuntimeError:\n",
    "            print(\"Recursion Error for top3. When using alpha: \", alpha)\n",
    "    else:\n",
    "        print('No valid alpha found for top3')\n",
    "        top3_params = None\n",
    "\n",
    "    print('Begining top5')\n",
    "    for alpha in valid_alphas:\n",
    "        try:\n",
    "            top5_params = st.topk_ranks_to_params(top5, target_words, alpha=alpha)\n",
    "            break\n",
    "        except RuntimeError:\n",
    "            print(\"Recursion Error for top5. When using alpha: \", alpha)\n",
    "    else:\n",
    "        print('No valid alpha found for top5')\n",
    "        top5_params = None\n",
    "    \n",
    "    print('Begining top1')\n",
    "    for alpha in valid_alphas:\n",
    "        try:\n",
    "            top1_params = st.top1_ranks_to_params(top1, target_words, alpha=alpha)\n",
    "            break\n",
    "        except RuntimeError:\n",
    "            print(\"Recursion Error for top1. When using alpha: \", alpha)\n",
    "    else:\n",
    "        print('No valid alpha found for top1')\n",
    "        top1_params = None\n",
    "\n",
    "    param_dict = {'top1': top1_params, 'top3': top3_params, 'top5': top5_params}\n",
    "\n",
    "    num_to_id, id_to_num = st.get_conversions(target_words)\n",
    "\n",
    "    top3_ordering = [id_to_num[x[1]] for x in top3_params]\n",
    "    top5_ordering = [id_to_num[x[1]] for x in top5_params]\n",
    "    top1_ordering = [id_to_num[x[1]] for x in top1_params]\n",
    "\n",
    "    ordering_dict = {'top3': top3_ordering, 'top5': top5_ordering, 'top1': top1_ordering}\n",
    "\n",
    "    return param_dict, ordering_dict, num_to_id\n",
    "                \n",
    "def do_everything(top1_3_5_pickle_id, top1_prompt, topk_prompt, target_words, times, valpha = None):\n",
    "    top1, top3, top5 = load_all(top1_3_5_pickle_id, top1_prompt, topk_prompt, times)\n",
    "    param_dict, ordering_dict, num_to_id = calculate_params(top1, top3, top5, target_words, valpha=valpha)\n",
    "    return param_dict, ordering_dict, num_to_id"
   ]
  },
  {
   "cell_type": "code",
   "execution_count": 31,
   "metadata": {},
   "outputs": [
    {
     "name": "stdout",
     "output_type": "stream",
     "text": [
      "Loading Previously Generated Ranks.\n",
      "Loading Previously Generated Ranks.\n",
      "Loading Previously Generated Ranks.\n",
      "Rember to have 0 at beginning of valid alphas\n",
      "Begining top3\n",
      "Begining top5\n",
      "Recursion Error for top5. When using alpha:  0.1\n",
      "Begining top1\n"
     ]
    }
   ],
   "source": [
    "pickle_id = 'Universities1000'\n",
    "param_dict, ordering_dict, num_to_id = do_everything(pickle_id, uni_top1, uni_topk, uni_target_words, 1000, valpha=[10**-1, 0.5, 1])"
   ]
  },
  {
   "cell_type": "code",
   "execution_count": 32,
   "metadata": {},
   "outputs": [
    {
     "name": "stdout",
     "output_type": "stream",
     "text": [
      "{'top1': [(7.1447104256538925, 'Oxford'),\n",
      "          (4.254018821281309, 'OTHER'),\n",
      "          (2.6133892963692014, 'Cambridge'),\n",
      "          (-2.001731220472058, 'Imperial'),\n",
      "          (-2.001731220472058, 'Warwick'),\n",
      "          (-2.001731220472058, 'Edinburgh'),\n",
      "          (-2.001731220472058, 'Bristol'),\n",
      "          (-2.001731220472058, 'King’s'),\n",
      "          (-2.001731220472058, 'University college London'),\n",
      "          (-2.001731220472058, 'LSE')],\n",
      " 'top3': [(3.691491981667278, 'Oxford'),\n",
      "          (2.0500316416357673, 'Warwick'),\n",
      "          (2.0500316416357673, 'Bristol'),\n",
      "          (2.0500316416357673, 'King’s'),\n",
      "          (2.0500316416357673, 'University college London'),\n",
      "          (1.8348618696329464, 'Cambridge'),\n",
      "          (-1.6910796065972815, 'LSE'),\n",
      "          (-3.823249321962834, 'Edinburgh'),\n",
      "          (-3.8788896411394225, 'Imperial'),\n",
      "          (-4.333261848143756, 'OTHER')],\n",
      " 'top5': [(8.278086480848433, 'Oxford'),\n",
      "          (6.228428910013009, 'Cambridge'),\n",
      "          (6.20248440798932, 'King’s'),\n",
      "          (0.5168663253519625, 'Imperial'),\n",
      "          (-1.1944174361612756, 'University college London'),\n",
      "          (-2.185934175767547, 'LSE'),\n",
      "          (-3.0839659520678255, 'OTHER'),\n",
      "          (-4.761718101378297, 'Edinburgh'),\n",
      "          (-4.781622777173651, 'Warwick'),\n",
      "          (-5.218207681654129, 'Bristol')]}\n"
     ]
    }
   ],
   "source": [
    "from pprint import pprint\n",
    "pprint(param_dict)"
   ]
  },
  {
   "cell_type": "code",
   "execution_count": null,
   "metadata": {},
   "outputs": [],
   "source": [
    "# The alpha has clearly fucked it up some how the ranks for top3 are very wrong."
   ]
  },
  {
   "cell_type": "code",
   "execution_count": 40,
   "metadata": {},
   "outputs": [
    {
     "name": "stdout",
     "output_type": "stream",
     "text": [
      "Loading Previously Generated Ranks.\n",
      "Loading Previously Generated Ranks.\n",
      "Loading Previously Generated Ranks.\n"
     ]
    },
    {
     "ename": "KeyboardInterrupt",
     "evalue": "",
     "output_type": "error",
     "traceback": [
      "\u001b[1;31m---------------------------------------------------------------------------\u001b[0m",
      "\u001b[1;31mKeyboardInterrupt\u001b[0m                         Traceback (most recent call last)",
      "Cell \u001b[1;32mIn[40], line 2\u001b[0m\n\u001b[0;32m      1\u001b[0m top1, top3, top5 \u001b[38;5;241m=\u001b[39m load_all(pickle_id,\u001b[38;5;124m'\u001b[39m\u001b[38;5;124m'\u001b[39m, \u001b[38;5;124m'\u001b[39m\u001b[38;5;124m'\u001b[39m, times\u001b[38;5;241m=\u001b[39m\u001b[38;5;241m1000\u001b[39m)\n\u001b[1;32m----> 2\u001b[0m top5_params \u001b[38;5;241m=\u001b[39m \u001b[43mst\u001b[49m\u001b[38;5;241;43m.\u001b[39;49m\u001b[43mtopk_ranks_to_params\u001b[49m\u001b[43m(\u001b[49m\u001b[43mtop5\u001b[49m\u001b[43m,\u001b[49m\u001b[43m \u001b[49m\u001b[43m[\u001b[49m\u001b[38;5;124;43m'\u001b[39;49m\u001b[38;5;124;43mOxford\u001b[39;49m\u001b[38;5;124;43m'\u001b[39;49m\u001b[43m,\u001b[49m\u001b[43m \u001b[49m\u001b[38;5;124;43m'\u001b[39;49m\u001b[38;5;124;43mCambridge\u001b[39;49m\u001b[38;5;124;43m'\u001b[39;49m\u001b[43m,\u001b[49m\u001b[43m \u001b[49m\u001b[38;5;124;43m'\u001b[39;49m\u001b[38;5;124;43mImperial\u001b[39;49m\u001b[38;5;124;43m'\u001b[39;49m\u001b[43m]\u001b[49m\u001b[43m,\u001b[49m\u001b[43m \u001b[49m\u001b[43malpha\u001b[49m\u001b[38;5;241;43m=\u001b[39;49m\u001b[38;5;241;43m1\u001b[39;49m\u001b[43m)\u001b[49m\n",
      "File \u001b[1;32mc:\\Users\\chris\\Documents\\LMEO\\LMEO\\Experiments\\..\\methods\\SimilarityTests.py:443\u001b[0m, in \u001b[0;36mSimilarityTests.topk_ranks_to_params\u001b[1;34m(self, ranks, target_words, **kargs)\u001b[0m\n\u001b[0;32m    440\u001b[0m \u001b[38;5;250m\u001b[39m\u001b[38;5;124;03m''' Takes a sets of Topk ranks and converts them to MM parameters.'''\u001b[39;00m\n\u001b[0;32m    441\u001b[0m converted_ranks, num_to_id \u001b[38;5;241m=\u001b[39m \u001b[38;5;28mself\u001b[39m\u001b[38;5;241m.\u001b[39mrank_to_num(ranks, target_words)\n\u001b[1;32m--> 443\u001b[0m MM_fitted_params \u001b[38;5;241m=\u001b[39m \u001b[43mmm_rankings\u001b[49m\u001b[43m(\u001b[49m\u001b[38;5;28;43mlen\u001b[39;49m\u001b[43m(\u001b[49m\u001b[43mnum_to_id\u001b[49m\u001b[43m)\u001b[49m\u001b[43m,\u001b[49m\u001b[43m \u001b[49m\u001b[43mconverted_ranks\u001b[49m\u001b[43m,\u001b[49m\u001b[43m \u001b[49m\u001b[38;5;241;43m*\u001b[39;49m\u001b[38;5;241;43m*\u001b[39;49m\u001b[43mkargs\u001b[49m\u001b[43m)\u001b[49m\n\u001b[0;32m    444\u001b[0m MM_fitted_params \u001b[38;5;241m=\u001b[39m \u001b[38;5;28msorted\u001b[39m(\u001b[38;5;28mzip\u001b[39m(MM_fitted_params, num_to_id\u001b[38;5;241m.\u001b[39mvalues()), key\u001b[38;5;241m=\u001b[39m\u001b[38;5;28;01mlambda\u001b[39;00m x: x[\u001b[38;5;241m0\u001b[39m], reverse\u001b[38;5;241m=\u001b[39m\u001b[38;5;28;01mTrue\u001b[39;00m)\n\u001b[0;32m    446\u001b[0m \u001b[38;5;28;01mreturn\u001b[39;00m MM_fitted_params\n",
      "File \u001b[1;32mc:\\Users\\chris\\Documents\\LMEO\\LMEO\\Experiments\\..\\methods\\SimilarityTests.py:192\u001b[0m, in \u001b[0;36mmm_rankings\u001b[1;34m(n_items, data, initial_params, alpha, max_iter, tol)\u001b[0m\n\u001b[0;32m    159\u001b[0m \u001b[38;5;28;01mdef\u001b[39;00m \u001b[38;5;21mmm_rankings\u001b[39m(n_items, data, initial_params\u001b[38;5;241m=\u001b[39m\u001b[38;5;28;01mNone\u001b[39;00m, alpha\u001b[38;5;241m=\u001b[39m\u001b[38;5;241m0.0\u001b[39m,\n\u001b[0;32m    160\u001b[0m             max_iter\u001b[38;5;241m=\u001b[39m\u001b[38;5;241m10000\u001b[39m, tol\u001b[38;5;241m=\u001b[39m\u001b[38;5;241m1e-8\u001b[39m):\n\u001b[0;32m    161\u001b[0m \u001b[38;5;250m        \u001b[39m\u001b[38;5;124;03m\"\"\"Compute the ML estimate of model parameters using the MM algorithm.\u001b[39;00m\n\u001b[0;32m    162\u001b[0m \n\u001b[0;32m    163\u001b[0m \u001b[38;5;124;03m        This function computes the maximum-likelihood (ML) estimate of model\u001b[39;00m\n\u001b[1;32m   (...)\u001b[0m\n\u001b[0;32m    190\u001b[0m \u001b[38;5;124;03m            The ML estimate of model parameters.\u001b[39;00m\n\u001b[0;32m    191\u001b[0m \u001b[38;5;124;03m        \"\"\"\u001b[39;00m\n\u001b[1;32m--> 192\u001b[0m         \u001b[38;5;28;01mreturn\u001b[39;00m \u001b[43m_mm\u001b[49m\u001b[43m(\u001b[49m\u001b[43mn_items\u001b[49m\u001b[43m,\u001b[49m\u001b[43m \u001b[49m\u001b[43mdata\u001b[49m\u001b[43m,\u001b[49m\u001b[43m \u001b[49m\u001b[43minitial_params\u001b[49m\u001b[43m,\u001b[49m\u001b[43m \u001b[49m\u001b[43malpha\u001b[49m\u001b[43m,\u001b[49m\u001b[43m \u001b[49m\u001b[43mmax_iter\u001b[49m\u001b[43m,\u001b[49m\u001b[43m \u001b[49m\u001b[43mtol\u001b[49m\u001b[43m,\u001b[49m\n\u001b[0;32m    193\u001b[0m \u001b[43m                \u001b[49m\u001b[43m_mm_rankings\u001b[49m\u001b[43m)\u001b[49m\n",
      "File \u001b[1;32mc:\\Users\\chris\\Documents\\LMEO\\LMEO\\Experiments\\..\\methods\\SimilarityTests.py:85\u001b[0m, in \u001b[0;36m_mm\u001b[1;34m(n_items, data, initial_params, alpha, max_iter, tol, mm_fun)\u001b[0m\n\u001b[0;32m     82\u001b[0m converged \u001b[38;5;241m=\u001b[39m NormOfDifferenceTest(tol\u001b[38;5;241m=\u001b[39mtol, order\u001b[38;5;241m=\u001b[39m\u001b[38;5;241m1\u001b[39m)\n\u001b[0;32m     84\u001b[0m \u001b[38;5;28;01mfor\u001b[39;00m _ \u001b[38;5;129;01min\u001b[39;00m \u001b[38;5;28mrange\u001b[39m(max_iter):\n\u001b[1;32m---> 85\u001b[0m     nums, denoms \u001b[38;5;241m=\u001b[39m \u001b[43mmm_fun\u001b[49m\u001b[43m(\u001b[49m\u001b[43mn_items\u001b[49m\u001b[43m,\u001b[49m\u001b[43m \u001b[49m\u001b[43mdata\u001b[49m\u001b[43m,\u001b[49m\u001b[43m \u001b[49m\u001b[43mparams\u001b[49m\u001b[43m)\u001b[49m\n\u001b[0;32m     86\u001b[0m     params \u001b[38;5;241m=\u001b[39m log_transform((nums \u001b[38;5;241m+\u001b[39m alpha) \u001b[38;5;241m/\u001b[39m (denoms \u001b[38;5;241m+\u001b[39m alpha))\n\u001b[0;32m     87\u001b[0m     \u001b[38;5;28;01mif\u001b[39;00m converged(params):\n",
      "File \u001b[1;32mc:\\Users\\chris\\Documents\\LMEO\\LMEO\\Experiments\\..\\methods\\SimilarityTests.py:149\u001b[0m, in \u001b[0;36m_mm_rankings\u001b[1;34m(n_items, data, params)\u001b[0m\n\u001b[0;32m    147\u001b[0m denoms \u001b[38;5;241m=\u001b[39m np\u001b[38;5;241m.\u001b[39mzeros(n_items, dtype\u001b[38;5;241m=\u001b[39m\u001b[38;5;28mfloat\u001b[39m)\n\u001b[0;32m    148\u001b[0m \u001b[38;5;28;01mfor\u001b[39;00m ranking \u001b[38;5;129;01min\u001b[39;00m data:\n\u001b[1;32m--> 149\u001b[0m     sum_ \u001b[38;5;241m=\u001b[39m \u001b[43mweights\u001b[49m\u001b[38;5;241;43m.\u001b[39;49m\u001b[43mtake\u001b[49m\u001b[43m(\u001b[49m\u001b[43mranking\u001b[49m\u001b[43m)\u001b[49m\u001b[38;5;241m.\u001b[39msum()\n\u001b[0;32m    150\u001b[0m     \u001b[38;5;28;01mfor\u001b[39;00m i, winner \u001b[38;5;129;01min\u001b[39;00m \u001b[38;5;28menumerate\u001b[39m(ranking[:\u001b[38;5;241m-\u001b[39m\u001b[38;5;241m1\u001b[39m]):\n\u001b[0;32m    151\u001b[0m         wins[winner] \u001b[38;5;241m+\u001b[39m\u001b[38;5;241m=\u001b[39m \u001b[38;5;241m1\u001b[39m\n",
      "\u001b[1;31mKeyboardInterrupt\u001b[0m: "
     ]
    }
   ],
   "source": [
    "top1, top3, top5 = load_all(pickle_id,'', '', times=1000)\n",
    "top5_params = st.topk_ranks_to_params(top5, ['Oxford', 'Cambridge', 'Imperial'], alpha=1)"
   ]
  },
  {
   "cell_type": "code",
   "execution_count": 41,
   "metadata": {},
   "outputs": [],
   "source": [
    "with open(r'C:\\Users\\chris\\Documents\\LMEO\\LMEO\\Experiments\\pickles\\top_3_Universities1000.pkl', 'rb') as f:\n",
    "    uni_top3_raw = pickle.load(f)"
   ]
  },
  {
   "cell_type": "code",
   "execution_count": 42,
   "metadata": {},
   "outputs": [],
   "source": [
    "st = SimilarityTests()\n",
    "\n",
    "conversion = st.rank_to_num(uni_top3_raw, uni_target_words, 1)"
   ]
  },
  {
   "cell_type": "code",
   "execution_count": 43,
   "metadata": {},
   "outputs": [
    {
     "name": "stdout",
     "output_type": "stream",
     "text": [
      "{0: 'Oxford', 1: 'Cambridge', 2: 'Imperial', 3: 'Warwick', 4: 'Edinburgh', 5: 'Bristol', 6: 'King’s', 7: 'University college London', 8: 'LSE', 9: 'OTHER'}\n",
      "[[0, 1, 2], [0, 1, 2], [1, 0, 9], [0, 1, 2], [0, 1, 2], [0, 1, 2], [0, 1, 2], [0, 1, 2], [0, 1, 2], [0, 1, 2]]\n"
     ]
    }
   ],
   "source": [
    "print(conversion[1])\n",
    "print(conversion[0][0:10])"
   ]
  },
  {
   "cell_type": "code",
   "execution_count": 65,
   "metadata": {},
   "outputs": [
    {
     "name": "stdout",
     "output_type": "stream",
     "text": [
      "{'Oxford': 135, 'Cambridge': 867, 'Imperial': 2611, 'OTHER': 9606, 'Edinburgh': 9782, 'LSE': 9966, 'Warwick': 9990, 'Bristol': 9990, 'King’s': 9990, 'University college London': 9990}\n"
     ]
    }
   ],
   "source": [
    "## We will make another simple way to score the ranks. \n",
    "## We will just add the position to a score and then choose the min, allocating +1 for any rank which didnt turn up\n",
    "## Or could -\n",
    "\n",
    "num_to_id, id_to_num = st.get_conversions(uni_target_words, 1)\n",
    "\n",
    "formated_ranks = conversion[0]\n",
    "final_scores_dict = {}\n",
    "\n",
    "no_appearence_penalty = len(num_to_id)\n",
    "\n",
    "for num_rank in formated_ranks:\n",
    "    appeared_unis = set()\n",
    "    \n",
    "    for place, uni in enumerate(num_rank):\n",
    "        chosen_uni = num_to_id[uni]\n",
    "        \n",
    "        # Adding the score\n",
    "        previous_count = final_scores_dict.get(chosen_uni, 0)\n",
    "        final_scores_dict[chosen_uni] = previous_count + place\n",
    "\n",
    "        appeared_unis.add(uni)\n",
    "    \n",
    "    # Now we will add the penalty for any uni that didnt appear by using the set difference\n",
    "    not_appeared = set([i for i in range(len(num_to_id))]) - appeared_unis\n",
    "    for x in not_appeared:\n",
    "        previous_count = final_scores_dict.get(num_to_id[x], 0)\n",
    "        final_scores_dict[num_to_id[x]] = previous_count + no_appearence_penalty\n",
    "\n",
    "sorted_dict = dict(sorted(final_scores_dict.items(), key=lambda item: item[1]))\n",
    "print(sorted_dict)\n",
    "\n"
   ]
  },
  {
   "cell_type": "code",
   "execution_count": 133,
   "metadata": {},
   "outputs": [
    {
     "name": "stdout",
     "output_type": "stream",
     "text": [
      "{'Oxford': 110, 'Cambridge': 9592, 'Imperial': 9702, 'Warwick': 9702, 'Edinburgh': 9702, 'Manchester': 9702, 'Bristol': 9702, 'King’s': 9702, 'PoliticalScience': 9702, 'CollegeLondon': 9702, 'OTHER': 9702}\n",
      "{'Oxford': 111, 'Cambridge': 889, 'Imperial': 2048, 'PoliticalScience': 3797, 'Edinburgh': 5079, 'Manchester': 9595, 'CollegeLondon': 10700, 'OTHER': 10802, 'Bristol': 10986, 'Warwick': 10993, 'King’s': 11000}\n",
      "{'Oxford': 135, 'Cambridge': 867, 'Imperial': 2688, 'PoliticalScience': 10539, 'Edinburgh': 10755, 'Manchester': 10980, 'Warwick': 10989, 'Bristol': 10989, 'King’s': 10989, 'CollegeLondon': 10989, 'OTHER': 10989}\n"
     ]
    }
   ],
   "source": [
    "def calculate_sorted_dict(ranks, target_words, other_flag=1):\n",
    "    st = SimilarityTests()\n",
    "\n",
    "    ranks = st.rank_to_num(ranks, target_words, other_flag)[0]\n",
    "    final_scores_dict = {}\n",
    "    \n",
    "    num_to_id, _ = st.get_conversions(target_words, 1)\n",
    "    no_appearence_penalty = len(num_to_id)\n",
    "\n",
    "    for num_rank in ranks:\n",
    "        appeared_unis = set()\n",
    "\n",
    "        for place, uni in enumerate(num_rank):\n",
    "            chosen_uni = num_to_id[uni]\n",
    "\n",
    "            # Adding the score\n",
    "            previous_count = final_scores_dict.get(chosen_uni, 0)\n",
    "            final_scores_dict[chosen_uni] = previous_count + place\n",
    "\n",
    "            appeared_unis.add(uni)\n",
    "\n",
    "        # Now we will add the penalty for any uni that didnt appear by using the set difference\n",
    "        not_appeared = set(range(len(num_to_id))) - appeared_unis\n",
    "        for x in not_appeared:\n",
    "            previous_count = final_scores_dict.get(num_to_id[x], 0)\n",
    "            final_scores_dict[num_to_id[x]] = previous_count + no_appearence_penalty\n",
    "\n",
    "    sorted_dict = dict(sorted(final_scores_dict.items(), key=lambda item: item[1]))\n",
    "    return sorted_dict\n",
    "\n",
    "with open(r'C:\\Users\\chris\\Documents\\LMEO\\LMEO\\Experiments\\pickles\\top_5_Universities1000.pkl', 'rb') as f:\n",
    "    uni_top5_raw = pickle.load(f)\n",
    "\n",
    "with open(r'C:\\Users\\chris\\Documents\\LMEO\\LMEO\\Experiments\\pickles\\top_1_Universities1000.pkl', 'rb') as f:\n",
    "    uni_top1_raw = pickle.load(f)\n",
    "\n",
    "uni_target_words = 'Oxford Cambridge Imperial Warwick Edinburgh Manchester Bristol King’s'.split(' ') + [['PoliticalScience', 'LSE']] + [['CollegeLondon', 'UCL']]\n",
    "\n",
    "print(calculate_sorted_dict([x for x in uni_top1_raw if len(x[0]) < 50], uni_target_words))\n",
    "print(calculate_sorted_dict(uni_top5_raw, uni_target_words))\n",
    "print(calculate_sorted_dict(uni_top3_raw, uni_target_words))"
   ]
  },
  {
   "cell_type": "code",
   "execution_count": 143,
   "metadata": {},
   "outputs": [
    {
     "name": "stdout",
     "output_type": "stream",
     "text": [
      "{'Oxford University': 209000, 'Cambridge University': 169000, 'University of Bristol': 25300, 'Imperial College London': 24265, 'University of Warwick': 16900}\n"
     ]
    }
   ],
   "source": [
    "freq_results = {\"University of Bristol\":19525,\"Bristol University\":5839,\"Warwick University\":3460,\"University of Warwick\":13598,\"Imperial College London\":24265,\n",
    "\"Oxford University\":145100,\"Cambridge University\":104228,\"University of Oxford\":64776,\"University of Cambridge\":65050}\n",
    "freq_results_org = {\"University of Bristol\":25300,\"University of Warwick\":16900,\"Imperial College London\":24265,\n",
    "\"Oxford University\":209000,\"Cambridge University\":169000}\n",
    "sorted_freq_results = dict(sorted(freq_results_org.items(), key=lambda item: item[1], reverse=True))\n",
    "print(sorted_freq_results)"
   ]
  },
  {
   "cell_type": "code",
   "execution_count": 140,
   "metadata": {},
   "outputs": [
    {
     "name": "stdout",
     "output_type": "stream",
     "text": [
      "['Oxford', 'Cambridge', 'Imperial', 'Warwick', 'Edinburgh', 'Manchester', 'Bristol', 'King’s', ['PoliticalScience', 'LSE'], ['CollegeLondon', 'UCL']]\n",
      "{0: 'Oxford', 1: 'Cambridge', 2: 'Imperial', 3: 'Warwick', 4: 'Edinburgh', 5: 'Manchester', 6: 'Bristol', 7: 'King’s', 8: 'PoliticalScience', 9: 'CollegeLondon', 10: 'OTHER'}\n",
      "'UniversityCollegeLondon(UCL)'\n",
      "'UniversityCollegeLondon'\n",
      "\"King'sCollegeLondon\"\n",
      "'UniversityCollegeLondon'\n",
      "'UniversityCollegeLondon'\n",
      "'UniversityCollegeLondon(UCL)'\n",
      "'UniversityCollegeLondon'\n",
      "'UniversityCollegeLondon(UCL)'\n",
      "'UniversityCollegeLondon'\n",
      "'UniversityCollegeLondon'\n",
      "'UniversityCollegeLondon'\n",
      "'UniversityCollegeLondon'\n",
      "'UniversityCollegeLondon'\n",
      "'UniversityCollegeLondon'\n",
      "'UniversityCollegeLondon'\n",
      "'UniversityCollegeLondon'\n",
      "'UniversityCollegeLondon'\n",
      "'UniversityCollegeLondon(UCL)'\n",
      "'UniversityCollegeLondon'\n",
      "'UniversityCollegeLondon'\n",
      "'UniversityCollegeLondon'\n",
      "'UniversityCollegeLondon'\n",
      "'UniversityCollegeLondon'\n",
      "'UniversityCollegeLondon'\n",
      "'UniversityCollegeLondon'\n",
      "'UniversityCollegeLondon(UCL)'\n",
      "'UniversityCollegeLondon'\n",
      "'UniversityCollegeLondon'\n",
      "'UniversityCollegeLondon'\n",
      "'UniversityCollegeLondon'\n",
      "'UniversityCollegeLondon'\n",
      "'UniversityCollegeLondon'\n",
      "'UniversityCollegeLondon'\n",
      "'UniversityCollegeLondon'\n",
      "'UCL(UniversityCollegeLondon)'\n",
      "'UniversityCollegeLondon'\n",
      "'UniversityCollegeLondon'\n",
      "'UniversityCollegeLondon'\n",
      "\"King'sCollegeLondon\"\n"
     ]
    }
   ],
   "source": [
    "print(uni_target_words)\n",
    "\n",
    "ranks, test_con = st.rank_to_num(uni_top5_raw, uni_target_words)\n",
    "print(test_con)\n",
    "for i, rank in enumerate(ranks):\n",
    "    for j, indi in enumerate(rank):\n",
    "        if indi == 9:\n",
    "            \n",
    "            print(repr(uni_top5_raw[i][j]))"
   ]
  },
  {
   "cell_type": "code",
   "execution_count": 139,
   "metadata": {},
   "outputs": [
    {
     "name": "stdout",
     "output_type": "stream",
     "text": [
      "True\n"
     ]
    }
   ],
   "source": [
    "'LSE' in 'LondonSchoolofEconomicsandPoliticalScience(LSE)'\n",
    "\n",
    "def hotel_target_flag(hotel, target_word):\n",
    "    if isinstance(target_word, list):\n",
    "        return any((word in hotel) for word in target_word)\n",
    "    else:\n",
    "        return target_word in hotel\n",
    "    \n",
    "print(any(hotel_target_flag('UniversityCollegeLondon', word) for word in uni_target_words))"
   ]
  },
  {
   "cell_type": "code",
   "execution_count": 79,
   "metadata": {},
   "outputs": [
    {
     "name": "stdout",
     "output_type": "stream",
     "text": [
      "141\n"
     ]
    }
   ],
   "source": [
    "print(len('There is no definitive answer to this question as it is subjective and depends on individual criteria for what makes a university the \"best.\"'))"
   ]
  },
  {
   "cell_type": "markdown",
   "metadata": {},
   "source": [
    "## Going to test whether this score function is more consistent for hotels."
   ]
  },
  {
   "cell_type": "code",
   "execution_count": 145,
   "metadata": {},
   "outputs": [],
   "source": [
    "def temp_load_raw(pickle_id):\n",
    "    with open(fr'C:\\Users\\chris\\Documents\\LMEO\\LMEO\\Experiments\\pickles\\top_5_{pickle_id}.pkl', 'rb') as f:\n",
    "        top5_raw = pickle.load(f)\n",
    "\n",
    "    with open(fr'C:\\Users\\chris\\Documents\\LMEO\\LMEO\\Experiments\\pickles\\top_3_{pickle_id}.pkl', 'rb') as f:\n",
    "        top3_raw = pickle.load(f)\n",
    "\n",
    "    with open(fr'C:\\Users\\chris\\Documents\\LMEO\\LMEO\\Experiments\\pickles\\top_1_{pickle_id}.pkl', 'rb') as f:\n",
    "        top1_raw = pickle.load(f)\n",
    "    \n",
    "    return top1_raw, top3_raw, top5_raw\n",
    "\n",
    "def calculate_all(pickle_id, target_words):\n",
    "    top1_raw, top3_raw, top5_raw = temp_load_raw(pickle_id)\n",
    "    top1 = calculate_sorted_dict([x for x in top1_raw if len(x[0]) < 50], target_words)\n",
    "    top3 = calculate_sorted_dict(top3_raw, target_words)\n",
    "    top5 = calculate_sorted_dict(top5_raw, target_words)\n",
    "    return top1, top3, top5"
   ]
  },
  {
   "cell_type": "code",
   "execution_count": 144,
   "metadata": {},
   "outputs": [],
   "source": [
    "# Getting the target words.\n",
    "st = SimilarityTests()\n",
    "hotel_word_dict = st.get_words_dict()"
   ]
  },
  {
   "cell_type": "markdown",
   "metadata": {},
   "source": [
    "Manchester"
   ]
  },
  {
   "cell_type": "code",
   "execution_count": 148,
   "metadata": {},
   "outputs": [
    {
     "name": "stdout",
     "output_type": "stream",
     "text": [
      "{'Hyatt': 9840, 'almaison': 11355, 'dgbaston': 12525, 'OTHER': 13230, 'Vin': 14370, 'Grand': 14595, 'Marriot': 14715, 'Metro': 14730, 'Hampton': 14745, 'Indigo': 14910, 'Staying': 14985, 'ACHotel': 15000, 'adisson': 15000, 'BirminghamCityCentre': 15000, 'Cube': 15000}\n",
      "{'Hyatt': 1606, 'almaison': 2868, 'Vin': 7104, 'dgbaston': 11974, 'Hampton': 12679, 'OTHER': 13368, 'Staying': 13406, 'ACHotel': 13946, 'Metro': 13980, 'Indigo': 14028, 'adisson': 14054, 'BirminghamCityCentre': 14099, 'Marriot': 14152, 'Grand': 14228, 'Cube': 14401}\n",
      "{'Hyatt': 1220, 'almaison': 1779, 'Vin': 3425, 'dgbaston': 8390, 'Hampton': 9007, 'ACHotel': 11584, 'OTHER': 11687, 'Staying': 12118, 'adisson': 13086, 'Indigo': 13898, 'Marriot': 14273, 'Metro': 14296, 'BirminghamCityCentre': 14319, 'Grand': 14367, 'Cube': 14626}\n"
     ]
    }
   ],
   "source": [
    "birmingham_words = hotel_word_dict['Birmingham']\n",
    "a, b, c = calculate_all('Birmingham1000', birmingham_words)\n",
    "print(a)\n",
    "print(b)\n",
    "print(c)"
   ]
  },
  {
   "cell_type": "code",
   "execution_count": 149,
   "metadata": {},
   "outputs": [
    {
     "name": "stdout",
     "output_type": "stream",
     "text": [
      "Top 1: {'OTHER': 5040, 'Radisson': 10584, 'Marriott': 13314, 'arbour': 13580, 'Hilton': 13776, 'Mercure': 13832, 'Berkeley': 13902, 'Gainsborough': 13986, 'ibis': 13986, 'Avon': 14000, 'DoubleTree': 14000, 'Future': 14000, 'ztec': 14000, 'gabel': 14000}\n",
      "Top 3: {'OTHER': 3109, 'Radisson': 6121, 'Mercure': 6521, 'Marriott': 8549, 'arbour': 10591, 'Hilton': 13134, 'Berkeley': 13577, 'Future': 13605, 'Avon': 13715, 'Gainsborough': 13792, 'ztec': 13884, 'DoubleTree': 13944, 'ibis': 13944, 'gabel': 13944}\n",
      "Top 5: {'Mercure': 2659, 'Radisson': 2718, 'OTHER': 3109, 'Marriott': 7390, 'arbour': 9333, 'Hilton': 10604, 'Future': 11332, 'Berkeley': 13226, 'Avon': 13325, 'ztec': 13496, 'Gainsborough': 13857, 'ibis': 13893, 'DoubleTree': 13958, 'gabel': 13958}\n"
     ]
    }
   ],
   "source": [
    "bristol_words = hotel_word_dict['Bristol']\n",
    "bristol_top1, bristol_top3, bristol_top5 = calculate_all('Bristol1000', bristol_words)\n",
    "print(\"Top 1:\", bristol_top1)\n",
    "print(\"Top 3:\", bristol_top3)\n",
    "print(\"Top 5:\", bristol_top5)"
   ]
  },
  {
   "cell_type": "code",
   "execution_count": 150,
   "metadata": {},
   "outputs": [
    {
     "name": "stdout",
     "output_type": "stream",
     "text": [
      "Top 1: {'Malmaison': 9948, 'OTHER': 10608, 'Crowne': 11364, 'Jury': 11748, 'Vin': 11844, 'Grey': 11880, 'County': 11964, 'Sandman': 11964, 'Indigo': 11964, 'Hilton': 11964, 'Dene': 16488}\n",
      "Top 3: {'Malmaison': 1544, 'Vin': 4429, 'OTHER': 7771, 'Grey': 8121, 'Crowne': 9264, 'Jury': 9935, 'Indigo': 10176, 'County': 10335, 'Hilton': 10360, 'Sandman': 10390, 'Dene': 14869}\n",
      "Top 5: {'Malmaison': 1038, 'Vin': 2087, 'OTHER': 4586, 'Grey': 5915, 'Crowne': 6512, 'Jury': 9564, 'County': 10130, 'Sandman': 10196, 'Indigo': 10196, 'Hilton': 10411, 'Dene': 14469}\n"
     ]
    }
   ],
   "source": [
    "newcastle_words = hotel_word_dict['Newcastle']\n",
    "newcastle_top1, newcastle_top3, newcastle_top5 = calculate_all('Newcastle1000', newcastle_words)\n",
    "print(\"Top 1:\", newcastle_top1)\n",
    "print(\"Top 3:\", newcastle_top3)\n",
    "print(\"Top 5:\", newcastle_top5)"
   ]
  }
 ],
 "metadata": {
  "kernelspec": {
   "display_name": "Python 3",
   "language": "python",
   "name": "python3"
  },
  "language_info": {
   "codemirror_mode": {
    "name": "ipython",
    "version": 3
   },
   "file_extension": ".py",
   "mimetype": "text/x-python",
   "name": "python",
   "nbconvert_exporter": "python",
   "pygments_lexer": "ipython3",
   "version": "3.12.1"
  }
 },
 "nbformat": 4,
 "nbformat_minor": 2
}
