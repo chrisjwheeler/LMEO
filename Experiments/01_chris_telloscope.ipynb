{
 "cells": [
  {
   "cell_type": "code",
   "execution_count": 1,
   "metadata": {},
   "outputs": [],
   "source": [
    "import os \n",
    "import sys \n",
    "import numpy as np\n",
    "\n",
    "sys.path.append(r'../')\n",
    "\n",
    "from methods import LMEO, Static\n",
    "from pprint import pprint "
   ]
  },
  {
   "cell_type": "code",
   "execution_count": 2,
   "metadata": {},
   "outputs": [],
   "source": [
    "lm = LMEO()\n",
    "london_words = Static.get_words_dict()['London']\n",
    "birmingham_words = Static.get_words_dict()['Birmingham']\n",
    "all_words = Static.get_words_dict()"
   ]
  },
  {
   "cell_type": "markdown",
   "metadata": {},
   "source": [
    "### We will do the telescope experiment\n",
    "\n",
    "1) Order the sets."
   ]
  },
  {
   "cell_type": "code",
   "execution_count": 23,
   "metadata": {},
   "outputs": [],
   "source": [
    "city = 'Birmingham'\n",
    "\n",
    "hotels_3_prompt = f\"Recommend three hotels in {city} UK. \\n State the name of the hotel on a new line each time not using a numbered list.\"\n",
    "hotels_5_prompt = f\"Recommend five hotels in {city} UK. \\n State the name of the hotel on a new line each time not using a numbered list.\"\n",
    "hotel_words = all_words[city]"
   ]
  },
  {
   "cell_type": "code",
   "execution_count": 24,
   "metadata": {},
   "outputs": [
    {
     "name": "stdout",
     "output_type": "stream",
     "text": [
      "['ACHotel', 'Hyatt', 'Metro', 'Marriot', 'adisson', 'almaison', 'BirminghamCityCentre', 'Vin', 'Cube', 'dgbaston', 'Grand', 'Staying', 'Indigo', 'Hampton']\n"
     ]
    }
   ],
   "source": [
    "print(hotel_words)"
   ]
  },
  {
   "cell_type": "code",
   "execution_count": 25,
   "metadata": {},
   "outputs": [
    {
     "name": "stdout",
     "output_type": "stream",
     "text": [
      "Loading Previously Generated Ranks.\n",
      "Loading Previously Generated Ranks.\n"
     ]
    }
   ],
   "source": [
    "top3_ranks = lm.order_set(hotels_3_prompt, f'{city}Top3_1000', 1000, num_ranks=3)\n",
    "top5_ranks = lm.order_set(hotels_5_prompt, f'{city}Top5_1000', 1000, num_ranks=5)\n",
    "\n",
    "top3_ranks_stacked = np.column_stack(top3_ranks)\n",
    "top5_ranks_stacked = np.column_stack(top5_ranks)"
   ]
  },
  {
   "cell_type": "code",
   "execution_count": 26,
   "metadata": {},
   "outputs": [],
   "source": [
    "assert len(top3_ranks_stacked) == 3\n",
    "assert len(top5_ranks_stacked) == 5"
   ]
  },
  {
   "cell_type": "code",
   "execution_count": 27,
   "metadata": {},
   "outputs": [],
   "source": [
    "top3_percent_dict = LMEO.create_percent_dict(top3_ranks_stacked, hotel_words, 1)\n",
    "top5_percent_dict = LMEO.create_percent_dict(top5_ranks_stacked, hotel_words, 1)"
   ]
  },
  {
   "cell_type": "code",
   "execution_count": 28,
   "metadata": {},
   "outputs": [
    {
     "name": "stdout",
     "output_type": "stream",
     "text": [
      "{0: {'ACHotel': 0.0031217481789802292,\n",
      "     'Grand': 0.007284079084287203,\n",
      "     'Hampton': 0.001040582726326743,\n",
      "     'Hyatt': 0.7700312174817983,\n",
      "     'Indigo': 0.001040582726326743,\n",
      "     'Marriot': 0.005202913631633716,\n",
      "     'Metro': 0.020811654526534867,\n",
      "     'Other': 0.006243496357960459,\n",
      "     'Staying': 0.013527575442247664,\n",
      "     'Vin': 0.026014568158168584,\n",
      "     'adisson': 0.006243496357960459,\n",
      "     'almaison': 0.08949011446409992,\n",
      "     'dgbaston': 0.049947970863683626},\n",
      " 1: {'ACHotel': 0.008324661810613946,\n",
      "     'BirminghamCityCentre': 0.004162330905306972,\n",
      "     'Cube': 0.001040582726326743,\n",
      "     'Grand': 0.004162330905306972,\n",
      "     'Hampton': 0.01873048907388138,\n",
      "     'Hyatt': 0.046826222684703406,\n",
      "     'Indigo': 0.008324661810613946,\n",
      "     'Marriot': 0.006243496357960459,\n",
      "     'Metro': 0.005202913631633716,\n",
      "     'Other': 0.039542143600416226,\n",
      "     'Staying': 0.035379812695109265,\n",
      "     'Vin': 0.1425598335067638,\n",
      "     'adisson': 0.011446409989594177,\n",
      "     'almaison': 0.608740894901146,\n",
      "     'dgbaston': 0.059313215400624286},\n",
      " 2: {'ACHotel': 0.02497398543184184,\n",
      "     'BirminghamCityCentre': 0.020811654526534867,\n",
      "     'Grand': 0.002081165452653486,\n",
      "     'Hampton': 0.11758584807492209,\n",
      "     'Hyatt': 0.08636836628511968,\n",
      "     'Indigo': 0.020811654526534867,\n",
      "     'Marriot': 0.008324661810613946,\n",
      "     'Metro': 0.005202913631633716,\n",
      "     'Other': 0.036420395421436005,\n",
      "     'Staying': 0.027055150884495328,\n",
      "     'Vin': 0.40166493236212036,\n",
      "     'adisson': 0.00936524453694069,\n",
      "     'almaison': 0.16545265348595192,\n",
      "     'dgbaston': 0.07388137356919872}}\n"
     ]
    }
   ],
   "source": [
    "pprint(top3_percent_dict)"
   ]
  },
  {
   "cell_type": "code",
   "execution_count": 29,
   "metadata": {},
   "outputs": [],
   "source": [
    "def longest_run(list1, list2):\n",
    "    # Create a table to store the lengths of common subsequences\n",
    "    n = len(list1)\n",
    "    m = len(list2)\n",
    "    table = [[0] * (m + 1) for _ in range(n + 1)]\n",
    "    longest = 0\n",
    "    end_index_list1 = 0\n",
    "\n",
    "    # Fill the table based on common elements in both lists\n",
    "    for i in range(1, n + 1):\n",
    "        for j in range(1, m + 1):\n",
    "            if list1[i - 1] == list2[j - 1]:\n",
    "                table[i][j] = table[i - 1][j - 1] + 1\n",
    "                if table[i][j] > longest:\n",
    "                    longest = table[i][j]\n",
    "                    end_index_list1 = i\n",
    "\n",
    "    # The longest run ends at end_index_list1 in list1\n",
    "    # Extract the subsequence\n",
    "    longest_run = list1[end_index_list1 - longest:end_index_list1]\n",
    "    \n",
    "    return longest_run"
   ]
  },
  {
   "cell_type": "code",
   "execution_count": 30,
   "metadata": {},
   "outputs": [
    {
     "name": "stdout",
     "output_type": "stream",
     "text": [
      "row 0\n",
      "Relative percent of the longest agreed consecutive run 0.38461538461538464\n",
      "Average difference: 0.02035963669066504\n",
      "row 1\n",
      "Relative percent of the longest agreed consecutive run 0.13333333333333333\n",
      "Average difference: 0.020784918797258453\n",
      "row 2\n",
      "Relative percent of the longest agreed consecutive run 0.21428571428571427\n",
      "Average difference: 0.014969947934679992\n"
     ]
    }
   ],
   "source": [
    "# Now we should have two metrics for how similar they are. \n",
    "# You should have a count of how long the greatest common subsequence is between the two lists.  \n",
    "\n",
    "for i in range(0, 3):\n",
    "    # Now we will get the longest run between the two lists\n",
    "\n",
    "    print(f'row {i}')   \n",
    "     \n",
    "    sorted_3 = sorted(top3_percent_dict[i].items(), key=lambda x: x[1], reverse=True)\n",
    "    sorted_5 = sorted(top5_percent_dict[i].items(), key=lambda x: x[1], reverse=True)\n",
    "\n",
    "    keys_in_order_3 = [x[0] for x in sorted_3]\n",
    "    keys_in_order_5 = [x[0] for x in sorted_5]\n",
    "\n",
    "    longest_run_realised = longest_run(keys_in_order_3, keys_in_order_5)\n",
    "\n",
    "    print('Relative percent of the longest agreed consecutive run', len(longest_run_realised)/max(len(top3_percent_dict[i]), len(top3_percent_dict[i])))\n",
    "\n",
    "    # print('top3')\n",
    "    # #pprint(sorted(top3_percent_dict[i].items(), key=lambda x: x[1], reverse=True))\n",
    "    \n",
    "    # print('top5')\n",
    "    # #pprint(sorted(top5_percent_dict[i].items(), key=lambda x: x[1], reverse=True))\n",
    "\n",
    "    # Calculate the average difference between corresponding keys in the two dicts\n",
    "    average_difference = sum(abs(top3_percent_dict[i][key] - top5_percent_dict[i].get(key, 0)) for key in keys_in_order_3) / len(keys_in_order_3)\n",
    "    print(\"Average difference:\", average_difference)"
   ]
  },
  {
   "cell_type": "markdown",
   "metadata": {},
   "source": [
    "These are not the same. \n",
    "\n",
    "- London -> Not the same. \n",
    "- Birmingham -> No where near. The smaller ranks are a lot more varied. \n",
    "- Newcastle ->"
   ]
  }
 ],
 "metadata": {
  "kernelspec": {
   "display_name": "Python 3",
   "language": "python",
   "name": "python3"
  },
  "language_info": {
   "codemirror_mode": {
    "name": "ipython",
    "version": 3
   },
   "file_extension": ".py",
   "mimetype": "text/x-python",
   "name": "python",
   "nbconvert_exporter": "python",
   "pygments_lexer": "ipython3",
   "version": "3.12.1"
  }
 },
 "nbformat": 4,
 "nbformat_minor": 2
}
