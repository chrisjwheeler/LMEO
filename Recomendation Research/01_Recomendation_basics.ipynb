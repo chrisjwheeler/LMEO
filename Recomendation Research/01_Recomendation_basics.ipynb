{
 "cells": [
  {
   "cell_type": "code",
   "execution_count": 3,
   "metadata": {},
   "outputs": [],
   "source": [
    "import os\n",
    "from dotenv import load_dotenv # This allows me to use the .env file to store my API key\n",
    "from openai import OpenAI\n",
    "\n",
    "# Load the .env file\n",
    "load_dotenv()\n",
    "personal_api_key = os.environ.get('MY_API_KEY')"
   ]
  },
  {
   "cell_type": "markdown",
   "metadata": {},
   "source": [
    "## Intention\n",
    "\n",
    "I want to formulate how consitent the reccomendations by non RAG LLM are for a variety of services. \n",
    "\n",
    "What you will need:\n",
    "- Query model, for variety of services. \n",
    "- Extract the order. \n",
    "- Use stats to do some form of consitency test."
   ]
  },
  {
   "cell_type": "code",
   "execution_count": 4,
   "metadata": {},
   "outputs": [],
   "source": [
    "client = OpenAI(api_key=personal_api_key)\n",
    "model = \"gpt-3.5-turbo\""
   ]
  },
  {
   "cell_type": "code",
   "execution_count": 5,
   "metadata": {},
   "outputs": [],
   "source": [
    "message_content = \"Reccomend five hotels in Bristol UK. State the name of the hotel on a new line each time. Dont use a numbered list.\"\n",
    "message = [{\"role\": \"user\", \"content\": message_content}]"
   ]
  },
  {
   "cell_type": "code",
   "execution_count": 6,
   "metadata": {},
   "outputs": [],
   "source": [
    "response = client.chat.completions.create(\n",
    "            model=model,\n",
    "            messages=message,\n",
    "        )\n",
    "\n",
    "LLM_response = response.choices[0].message.content"
   ]
  },
  {
   "cell_type": "code",
   "execution_count": 7,
   "metadata": {},
   "outputs": [
    {
     "name": "stdout",
     "output_type": "stream",
     "text": [
      "Radisson Blu Hotel, Bristol\n",
      "Bristol Harbour Hotel & Spa\n",
      "Mercure Bristol Grand Hotel\n",
      "Bristol Marriott Royal Hotel\n",
      "The Bristol Hotel\n"
     ]
    }
   ],
   "source": [
    "print(LLM_response)"
   ]
  },
  {
   "cell_type": "code",
   "execution_count": 8,
   "metadata": {},
   "outputs": [
    {
     "name": "stdout",
     "output_type": "stream",
     "text": [
      "['Radisson Blu Hotel, Bristol', 'Bristol Harbour Hotel & Spa', 'Mercure Bristol Grand Hotel', 'Bristol Marriott Royal Hotel', 'The Bristol Hotel']\n"
     ]
    }
   ],
   "source": [
    "Ordered_list = LLM_response.split(\"\\n\")\n",
    "print(Ordered_list)"
   ]
  },
  {
   "cell_type": "markdown",
   "metadata": {},
   "source": [
    "Now I need to decide how I will test the consistency. I feel like there shoudl be some stats test that I already know.\n",
    "\n",
    "You could create a dictonary of appearences, and then just add points depending on where they come -> this isnt fair as when they dont appear will look like they come well. \n",
    "You could make a dictionary a list in each position and then just look at the frequency.   \n",
    "\n",
    "It might be more informative to have a list of hotels and then ask to rank although. This is different to the current question but is likley more informative. You will benefit from doing ten runs and then seeing what comes up in each as you can use this to have the hotels for it to rank. \n",
    "\n",
    "After Research:\n",
    "- Jackards Index\n",
    "- "
   ]
  },
  {
   "cell_type": "code",
   "execution_count": 9,
   "metadata": {},
   "outputs": [],
   "source": [
    "import re\n",
    "\n",
    "def order_set(message_content: str, times: int = 1):\n",
    "    ''' Generate multiple rank sets. '''\n",
    "    \n",
    "    message = [{\"role\": \"user\", \"content\": message_content}]\n",
    "    \n",
    "    response = client.chat.completions.create(\n",
    "            model=model,\n",
    "            messages=message,\n",
    "            n=times\n",
    "        )\n",
    "\n",
    "    # Will remove most of the unwanted aretfacts from the response. By no means optimsed.\n",
    "    pattern = r\"\\d+|\\s?-\\s|\\s?\\.\\s|\\s|,\"\n",
    "    ranks = [LLM_response.message.content.split(\"\\n\") for LLM_response in response.choices]\n",
    "    ranks = [[re.sub(pattern, \"\", item) for item in rank] for rank in ranks]\n",
    "    # remove any empty strings\n",
    "    ranks = [[item for item in rank if item] for rank in ranks]\n",
    "    \n",
    "    return ranks"
   ]
  },
  {
   "cell_type": "code",
   "execution_count": 10,
   "metadata": {},
   "outputs": [],
   "source": [
    "ranks = order_set(message_content, 100)"
   ]
  },
  {
   "cell_type": "code",
   "execution_count": 20,
   "metadata": {},
   "outputs": [],
   "source": [
    "import pickle\n",
    "\n",
    "# Dump the ranks variable\n",
    "with open('ranks.pkl', 'wb') as file:\n",
    "    pickle.dump(ranks, file)"
   ]
  },
  {
   "cell_type": "code",
   "execution_count": 11,
   "metadata": {},
   "outputs": [],
   "source": [
    "# Going to go simple for analysis.\n",
    "num_ranks = 5\n",
    "frequency_dict = {x: {} for x in range(num_ranks)}\n",
    "\n",
    "# Count the number of times each hotel appears in each rank\n",
    "for rank_hotels in ranks:\n",
    "    for i, hotel in enumerate(rank_hotels):\n",
    "        if i == num_ranks:\n",
    "            break\n",
    "        number_of_occurences = frequency_dict[i].get(hotel, 0)\n",
    "        frequency_dict[i][hotel] = number_of_occurences + 1"
   ]
  },
  {
   "cell_type": "code",
   "execution_count": 12,
   "metadata": {},
   "outputs": [
    {
     "name": "stdout",
     "output_type": "stream",
     "text": [
      "{0: {'AvonGorgebyHotelDuVin': 1,\n",
      "     'BerwickLodge': 1,\n",
      "     'BristolHarborHotel': 3,\n",
      "     'BristolHarbourHotel&Spa': 20,\n",
      "     'BristolMarriottHotelCityCentre': 2,\n",
      "     'BristolMarriottRoyalHotel': 3,\n",
      "     'HotelduVin': 1,\n",
      "     'HotelduVinBristol': 2,\n",
      "     'MercureBristolGrandHotel': 1,\n",
      "     'RadissonBluHotel': 2,\n",
      "     'RadissonBluHotelBristol': 16,\n",
      "     'TheBristolHarborHotel': 1,\n",
      "     'TheBristolHotel': 46,\n",
      "     'TheGainsboroughBathSpa': 1},\n",
      " 1: {'BerkeleySuites': 2,\n",
      "     'BerwickLodge': 3,\n",
      "     'BristolHarbourHotel&Spa': 5,\n",
      "     'BristolMarriottRoyalHotel': 10,\n",
      "     'FutureInnBristol': 1,\n",
      "     'HamptonbyHiltonBristolCityCentre': 1,\n",
      "     'HotelduVin&BistroBristol': 6,\n",
      "     'MercureBristolGrandHotel': 16,\n",
      "     'MercureBristolHollandHouseHotelandSpa': 1,\n",
      "     'RadissonBluHotel': 1,\n",
      "     'RadissonBluHotelBristol': 22,\n",
      "     'TheBristol': 7,\n",
      "     'TheBristolHotel': 22,\n",
      "     'TheBristolMarriottRoyalHotel': 1,\n",
      "     'TheGainsboroughBathSpa': 1,\n",
      "     'TheRadissonBluHotelBristol': 1},\n",
      " 2: {'AvonGorgebyHotelduVin': 1,\n",
      "     'AztecHotel&Spa': 2,\n",
      "     'BerkeleySuites': 2,\n",
      "     'BerwickLodge': 3,\n",
      "     'BristolHarbourHotel': 2,\n",
      "     'BristolHarbourHotel&Spa': 9,\n",
      "     'BristolMarriottHotelCityCentre': 2,\n",
      "     'BristolMarriottRoyalHotel': 12,\n",
      "     'BrooksGuesthouseBristol': 1,\n",
      "     'DoubleTreebyHiltonHotelBristolCityCentre': 1,\n",
      "     'FutureInnBristol': 1,\n",
      "     'FutureInnCabotCircusHotel': 1,\n",
      "     'HotelduVin&BistroBristol': 1,\n",
      "     'HotelduVinBristol': 1,\n",
      "     'IbisBristolCentre': 1,\n",
      "     'MercureBristolGrandHotel': 22,\n",
      "     'NovotelBristolCentre': 1,\n",
      "     'RadissonBluHotel': 1,\n",
      "     'RadissonBluHotelBristol': 17,\n",
      "     'SACOBristolWestIndiaHouse': 1,\n",
      "     'TheAvonGorgebyHotelduVin': 1,\n",
      "     'TheBerkeleySquareHotel': 2,\n",
      "     'TheBristol': 1,\n",
      "     'TheBristolHotel': 8,\n",
      "     'TheCliftonHotel': 2,\n",
      "     'TheGainsboroughBathSpa': 1,\n",
      "     'TheGrandHotelBristol': 3},\n",
      " 3: {'ApexCityofBristolHotel': 1,\n",
      "     'AvonGorgebyHotelduVin': 1,\n",
      "     'AztecHotel&Spa': 2,\n",
      "     'BerkeleySquareHotel': 1,\n",
      "     'BerkeleySuites': 3,\n",
      "     'BristolHarbourHotel&Spa': 12,\n",
      "     'BristolMarriottRoyalHotel': 9,\n",
      "     'BrooksGuesthouseBristol': 1,\n",
      "     'DoubleTreebyHiltonBristolNorth': 1,\n",
      "     'DoubleTreebyHiltonHotelBristolCityCentre': 3,\n",
      "     'FutureInnBristol': 2,\n",
      "     'FutureInnBristolCityCentreHotel': 1,\n",
      "     'FutureInnCabotCircusHotel': 1,\n",
      "     'HamiltonbyHiltonCityCentreHotel': 1,\n",
      "     'HamptonbyHiltonBristolCityCentre': 3,\n",
      "     'HiltonGardenInnBristolCityCentre': 1,\n",
      "     'HotelDuVin&BistroBristol': 1,\n",
      "     'HotelduVin&BistroBristol': 1,\n",
      "     'MercureBristolGrandHotel': 24,\n",
      "     'RadissonBluHotel': 1,\n",
      "     'RadissonBluHotelBristol': 20,\n",
      "     'TheBerkeleySquareHotel': 1,\n",
      "     'TheBristol': 1,\n",
      "     'TheBristolHotel': 7,\n",
      "     'UniversityArms': 1},\n",
      " 4: {'AvonGorgebyHotelduVin': 3,\n",
      "     'AztecHotel&Spa': 1,\n",
      "     'BerkeleySquareHotelBristol': 1,\n",
      "     'BerkeleySuites': 3,\n",
      "     'BerwickLodge': 1,\n",
      "     'BristolHarbourHotel': 1,\n",
      "     'BristolHarbourHotel&Spa': 4,\n",
      "     'BristolMarriottHotelCityCentre': 1,\n",
      "     'BristolMarriottRoyalHotel': 4,\n",
      "     'BrooksGuesthouse': 3,\n",
      "     'BrooksGuesthouseBristol': 1,\n",
      "     'DoubleTreebyHiltonBristolCityCentre': 1,\n",
      "     'DoubleTreebyHiltonHotelBristolCity': 2,\n",
      "     'DoubleTreebyHiltonHotelBristolCityCentre': 4,\n",
      "     'FutureInnBristol': 3,\n",
      "     'FutureInnBristolHotel': 1,\n",
      "     'HamptonbyHiltonBristolCityCentre': 15,\n",
      "     'HolidayInnBristolCityCentre': 1,\n",
      "     'HolidayInnExpressBristolCityCentre': 1,\n",
      "     'HotelduVin&Bistro': 1,\n",
      "     'HotelduVin&BistroBristol': 4,\n",
      "     'MercureBristolGrandHotel': 21,\n",
      "     'MercureBristolHollandHouseHotelandSpa': 1,\n",
      "     'RadissonBluHotelBristol': 8,\n",
      "     'SACOBristolBroadQuay': 1,\n",
      "     'TheBerkeleySquareHotel': 2,\n",
      "     'TheBristolHotel': 5,\n",
      "     'TheBristolMarriotRoyalHotel': 1,\n",
      "     'TheCliftonHotel': 1,\n",
      "     'TheGainsboroughBathSpa': 1,\n",
      "     'TheGainsboroughHouseHotel': 2,\n",
      "     'ibisBristolCentre': 1}}\n"
     ]
    }
   ],
   "source": [
    "import pprint\n",
    "pprint.pprint(frequency_dict)"
   ]
  },
  {
   "cell_type": "code",
   "execution_count": 13,
   "metadata": {},
   "outputs": [
    {
     "name": "stdout",
     "output_type": "stream",
     "text": [
      "0\n",
      "ratio of largest in dict to total: 0.46\n",
      "Number of unique hotels: 14\n",
      "1\n",
      "ratio of largest in dict to total: 0.22\n",
      "Number of unique hotels: 16\n",
      "2\n",
      "ratio of largest in dict to total: 0.22\n",
      "Number of unique hotels: 27\n",
      "3\n",
      "ratio of largest in dict to total: 0.24\n",
      "Number of unique hotels: 25\n",
      "4\n",
      "ratio of largest in dict to total: 0.21\n",
      "Number of unique hotels: 32\n"
     ]
    }
   ],
   "source": [
    "for key, value in frequency_dict.items():\n",
    "    print(key)\n",
    "    print('ratio of largest in dict to total:', max(value.values())/sum(value.values()))\n",
    "    print('Number of unique hotels:', len(value))"
   ]
  },
  {
   "cell_type": "markdown",
   "metadata": {},
   "source": [
    "Would also be useful to know the relative frequency of those in a given row in all the other rows.\n"
   ]
  },
  {
   "cell_type": "code",
   "execution_count": 14,
   "metadata": {},
   "outputs": [],
   "source": [
    "def frequency_given_row(row):\n",
    "    hotels_in_row = frequency_dict[row]\n",
    "    rows_to_compare = [x for x in frequency_dict.keys() if x != row]\n",
    "    \n",
    "    for hotel in hotels_in_row:\n",
    "        print('\\n' + hotel)\n",
    "        print(f\"occurence in row {row}: {round(hotels_in_row[hotel]/sum(hotels_in_row.values()), 2)}\")\n",
    "        for comparison_row in rows_to_compare:\n",
    "            freq_in_comparison = frequency_dict[comparison_row].get(hotel, 0)\n",
    "            if freq_in_comparison:\n",
    "                print(f\"occurence in row {comparison_row}: {round(freq_in_comparison/sum(frequency_dict[comparison_row].values()), 2)}\")\n",
    "        "
   ]
  },
  {
   "cell_type": "code",
   "execution_count": 15,
   "metadata": {},
   "outputs": [
    {
     "name": "stdout",
     "output_type": "stream",
     "text": [
      "\n",
      "TheBristolHotel\n",
      "occurence in row 0: 0.46\n",
      "occurence in row 1: 0.22\n",
      "occurence in row 2: 0.08\n",
      "occurence in row 3: 0.07\n",
      "occurence in row 4: 0.05\n",
      "\n",
      "BristolHarbourHotel&Spa\n",
      "occurence in row 0: 0.2\n",
      "occurence in row 1: 0.05\n",
      "occurence in row 2: 0.09\n",
      "occurence in row 3: 0.12\n",
      "occurence in row 4: 0.04\n",
      "\n",
      "HotelduVinBristol\n",
      "occurence in row 0: 0.02\n",
      "occurence in row 2: 0.01\n",
      "\n",
      "BerwickLodge\n",
      "occurence in row 0: 0.01\n",
      "occurence in row 1: 0.03\n",
      "occurence in row 2: 0.03\n",
      "occurence in row 4: 0.01\n",
      "\n",
      "BristolMarriottRoyalHotel\n",
      "occurence in row 0: 0.03\n",
      "occurence in row 1: 0.1\n",
      "occurence in row 2: 0.12\n",
      "occurence in row 3: 0.09\n",
      "occurence in row 4: 0.04\n",
      "\n",
      "BristolMarriottHotelCityCentre\n",
      "occurence in row 0: 0.02\n",
      "occurence in row 2: 0.02\n",
      "occurence in row 4: 0.01\n",
      "\n",
      "RadissonBluHotelBristol\n",
      "occurence in row 0: 0.16\n",
      "occurence in row 1: 0.22\n",
      "occurence in row 2: 0.17\n",
      "occurence in row 3: 0.2\n",
      "occurence in row 4: 0.08\n",
      "\n",
      "TheBristolHarborHotel\n",
      "occurence in row 0: 0.01\n",
      "\n",
      "TheGainsboroughBathSpa\n",
      "occurence in row 0: 0.01\n",
      "occurence in row 1: 0.01\n",
      "occurence in row 2: 0.01\n",
      "occurence in row 4: 0.01\n",
      "\n",
      "AvonGorgebyHotelDuVin\n",
      "occurence in row 0: 0.01\n",
      "\n",
      "RadissonBluHotel\n",
      "occurence in row 0: 0.02\n",
      "occurence in row 1: 0.01\n",
      "occurence in row 2: 0.01\n",
      "occurence in row 3: 0.01\n",
      "\n",
      "HotelduVin\n",
      "occurence in row 0: 0.01\n",
      "\n",
      "MercureBristolGrandHotel\n",
      "occurence in row 0: 0.01\n",
      "occurence in row 1: 0.16\n",
      "occurence in row 2: 0.22\n",
      "occurence in row 3: 0.24\n",
      "occurence in row 4: 0.21\n",
      "\n",
      "BristolHarborHotel\n",
      "occurence in row 0: 0.03\n"
     ]
    }
   ],
   "source": [
    "frequency_given_row(0)"
   ]
  },
  {
   "cell_type": "markdown",
   "metadata": {},
   "source": [
    "These funcitons arent useless but it is bogged down by the many ways there is to say the same hotel so it isnt perfect. I think a better way to compare is to give list of hotels and ask to rank. ALthough again this is a differnt question.\n",
    "\n",
    "Could easily right something which matches hotels to numbers and then you can just make it easier."
   ]
  },
  {
   "cell_type": "code",
   "execution_count": 16,
   "metadata": {},
   "outputs": [],
   "source": [
    "# Get all of the hotels.\n",
    "unpacked_ranks = [hotel for rank in ranks for hotel in rank]\n",
    "all_hotels = set(unpacked_ranks)"
   ]
  },
  {
   "cell_type": "code",
   "execution_count": 74,
   "metadata": {},
   "outputs": [],
   "source": [
    "target_words = ['Marriott','Gainsborough','Hilton','Mercure', 'arbour' ,'Radisson', 'Avon', 'DoubleTree', 'Berkeley', 'ibis', 'Future','ztec', 'gabel',  ]"
   ]
  },
  {
   "cell_type": "code",
   "execution_count": 75,
   "metadata": {},
   "outputs": [],
   "source": [
    "grouped_hotels = {}\n",
    "\n",
    "all_hotels_copy = all_hotels.copy()\n",
    "for word in target_words:\n",
    "    relevant = [hotel for hotel in all_hotels if word in hotel]\n",
    "    grouped_hotels[word] = relevant\n",
    "    all_hotels_copy = all_hotels_copy.difference(relevant)\n",
    "\n",
    "for word in all_hotels_copy:\n",
    "    grouped_hotels[word] = [word]"
   ]
  },
  {
   "cell_type": "code",
   "execution_count": 76,
   "metadata": {},
   "outputs": [],
   "source": [
    "def frequency_given_row(frequency_dict, row):\n",
    "    hotels_in_row = frequency_dict[row]\n",
    "    rows_to_compare = [x for x in frequency_dict.keys() if x != row]\n",
    "    \n",
    "    for hotel in hotels_in_row:\n",
    "        print('\\n' + hotel)\n",
    "        print(f\"occurence in row {row}: {round(hotels_in_row[hotel]/sum(hotels_in_row.values()), 2)}\")\n",
    "        for comparison_row in rows_to_compare:\n",
    "            freq_in_comparison = frequency_dict[comparison_row].get(hotel, 0)\n",
    "            if freq_in_comparison:\n",
    "                print(f\"occurence in row {comparison_row}: {round(freq_in_comparison/sum(frequency_dict[comparison_row].values()), 2)}\")\n",
    "\n",
    "\n",
    "def frequency_in_row(ranks, grouped_hotels):\n",
    "    frequency_dict = {x: {} for x in range(num_ranks)}\n",
    "\n",
    "    for rank_instance in ranks:\n",
    "        for i, hotel in enumerate(rank_instance):\n",
    "            for word, hotel_list in grouped_hotels.items():\n",
    "                if hotel in hotel_list:\n",
    "                    num_occurences = frequency_dict[i].get(word, 0)\n",
    "                    frequency_dict[i][word] = num_occurences + 1\n",
    "    \n",
    "    return frequency_dict\n",
    "\n",
    "        "
   ]
  },
  {
   "cell_type": "code",
   "execution_count": 77,
   "metadata": {},
   "outputs": [
    {
     "name": "stdout",
     "output_type": "stream",
     "text": [
      "{0: {'Avon': 1,\n",
      "     'BerwickLodge': 1,\n",
      "     'BristolHarborHotel': 3,\n",
      "     'Gainsborough': 1,\n",
      "     'HotelduVin': 1,\n",
      "     'HotelduVinBristol': 2,\n",
      "     'Marriott': 5,\n",
      "     'Mercure': 1,\n",
      "     'Radisson': 18,\n",
      "     'TheBristolHarborHotel': 1,\n",
      "     'TheBristolHotel': 46,\n",
      "     'arbour': 20},\n",
      " 1: {'Berkeley': 2,\n",
      "     'BerwickLodge': 3,\n",
      "     'Future': 1,\n",
      "     'Gainsborough': 1,\n",
      "     'Hilton': 1,\n",
      "     'HotelduVin&BistroBristol': 6,\n",
      "     'Marriott': 11,\n",
      "     'Mercure': 17,\n",
      "     'Radisson': 24,\n",
      "     'TheBristol': 7,\n",
      "     'TheBristolHotel': 22,\n",
      "     'arbour': 5},\n",
      " 2: {'Avon': 2,\n",
      "     'Berkeley': 4,\n",
      "     'BerwickLodge': 3,\n",
      "     'BrooksGuesthouseBristol': 1,\n",
      "     'DoubleTree': 1,\n",
      "     'Future': 2,\n",
      "     'Gainsborough': 1,\n",
      "     'Hilton': 1,\n",
      "     'HotelduVin&BistroBristol': 1,\n",
      "     'HotelduVinBristol': 1,\n",
      "     'IbisBristolCentre': 1,\n",
      "     'Marriott': 14,\n",
      "     'Mercure': 22,\n",
      "     'NovotelBristolCentre': 1,\n",
      "     'Radisson': 18,\n",
      "     'SACOBristolWestIndiaHouse': 1,\n",
      "     'TheBristol': 1,\n",
      "     'TheBristolHotel': 8,\n",
      "     'TheCliftonHotel': 2,\n",
      "     'TheGrandHotelBristol': 3,\n",
      "     'arbour': 11,\n",
      "     'ztec': 2},\n",
      " 3: {'ApexCityofBristolHotel': 1,\n",
      "     'Avon': 1,\n",
      "     'Berkeley': 5,\n",
      "     'BrooksGuesthouseBristol': 1,\n",
      "     'DoubleTree': 4,\n",
      "     'Future': 4,\n",
      "     'Hilton': 9,\n",
      "     'HotelDuVin&BistroBristol': 1,\n",
      "     'HotelduVin&BistroBristol': 1,\n",
      "     'Marriott': 9,\n",
      "     'Mercure': 24,\n",
      "     'Radisson': 21,\n",
      "     'TheBristol': 1,\n",
      "     'TheBristolHotel': 7,\n",
      "     'UniversityArms': 1,\n",
      "     'arbour': 12,\n",
      "     'ztec': 2},\n",
      " 4: {'Avon': 3,\n",
      "     'Berkeley': 6,\n",
      "     'BerwickLodge': 1,\n",
      "     'BrooksGuesthouse': 3,\n",
      "     'BrooksGuesthouseBristol': 1,\n",
      "     'DoubleTree': 7,\n",
      "     'Future': 4,\n",
      "     'Gainsborough': 3,\n",
      "     'Hilton': 22,\n",
      "     'HolidayInnBristolCityCentre': 1,\n",
      "     'HolidayInnExpressBristolCityCentre': 1,\n",
      "     'HotelduVin&Bistro': 1,\n",
      "     'HotelduVin&BistroBristol': 4,\n",
      "     'Marriott': 5,\n",
      "     'Mercure': 22,\n",
      "     'Radisson': 8,\n",
      "     'SACOBristolBroadQuay': 1,\n",
      "     'TheBristolHotel': 5,\n",
      "     'TheBristolMarriotRoyalHotel': 1,\n",
      "     'TheCliftonHotel': 1,\n",
      "     'arbour': 5,\n",
      "     'ibis': 1,\n",
      "     'ztec': 1}}\n"
     ]
    }
   ],
   "source": [
    "from pprint import pprint\n",
    "pprint(frequency_in_row(ranks, grouped_hotels))"
   ]
  },
  {
   "cell_type": "code",
   "execution_count": 78,
   "metadata": {},
   "outputs": [
    {
     "name": "stdout",
     "output_type": "stream",
     "text": [
      "\n",
      "TheBristolHotel\n",
      "occurence in row 0: 0.46\n",
      "occurence in row 1: 0.22\n",
      "occurence in row 2: 0.08\n",
      "occurence in row 3: 0.07\n",
      "occurence in row 4: 0.05\n",
      "\n",
      "arbour\n",
      "occurence in row 0: 0.2\n",
      "occurence in row 1: 0.05\n",
      "occurence in row 2: 0.11\n",
      "occurence in row 3: 0.12\n",
      "occurence in row 4: 0.05\n",
      "\n",
      "HotelduVinBristol\n",
      "occurence in row 0: 0.02\n",
      "occurence in row 2: 0.01\n",
      "\n",
      "BerwickLodge\n",
      "occurence in row 0: 0.01\n",
      "occurence in row 1: 0.03\n",
      "occurence in row 2: 0.03\n",
      "occurence in row 4: 0.01\n",
      "\n",
      "Marriott\n",
      "occurence in row 0: 0.05\n",
      "occurence in row 1: 0.11\n",
      "occurence in row 2: 0.14\n",
      "occurence in row 3: 0.09\n",
      "occurence in row 4: 0.05\n",
      "\n",
      "Radisson\n",
      "occurence in row 0: 0.18\n",
      "occurence in row 1: 0.24\n",
      "occurence in row 2: 0.18\n",
      "occurence in row 3: 0.2\n",
      "occurence in row 4: 0.07\n",
      "\n",
      "TheBristolHarborHotel\n",
      "occurence in row 0: 0.01\n",
      "\n",
      "Gainsborough\n",
      "occurence in row 0: 0.01\n",
      "occurence in row 1: 0.01\n",
      "occurence in row 2: 0.01\n",
      "occurence in row 4: 0.03\n",
      "\n",
      "Avon\n",
      "occurence in row 0: 0.01\n",
      "occurence in row 2: 0.02\n",
      "occurence in row 3: 0.01\n",
      "occurence in row 4: 0.03\n",
      "\n",
      "HotelduVin\n",
      "occurence in row 0: 0.01\n",
      "\n",
      "Mercure\n",
      "occurence in row 0: 0.01\n",
      "occurence in row 1: 0.17\n",
      "occurence in row 2: 0.22\n",
      "occurence in row 3: 0.23\n",
      "occurence in row 4: 0.21\n",
      "\n",
      "BristolHarborHotel\n",
      "occurence in row 0: 0.03\n"
     ]
    }
   ],
   "source": [
    "frequency_given_row(frequency_in_row(ranks, grouped_hotels), 0)"
   ]
  },
  {
   "cell_type": "markdown",
   "metadata": {},
   "source": [
    "You now have a decent frequency of each hotel. You now want to investigate how much of a proper ranking it is, you first need to define what this means and then write a script which will tell you.\n",
    "\n",
    "Defining a proper ranking:\n",
    "- Hotels frequencys should be unimodal and concave\n",
    "- The most common hotel in each row should be consistent.\n",
    "- \n",
    "\n",
    "How consistent the ranking are on differnt models would be intresting, if they correlated it would suggest that it is determinstic and that you can prob game it. If they arent it will be largerly random and hard to game."
   ]
  },
  {
   "cell_type": "markdown",
   "metadata": {},
   "source": [
    "tkinter solutin is certainly possible but you dont know much about it and it seems hard, you could just do a text solution. Whereby you but into text file and sort in there with different tags."
   ]
  }
 ],
 "metadata": {
  "kernelspec": {
   "display_name": "Python 3",
   "language": "python",
   "name": "python3"
  },
  "language_info": {
   "codemirror_mode": {
    "name": "ipython",
    "version": 3
   },
   "file_extension": ".py",
   "mimetype": "text/x-python",
   "name": "python",
   "nbconvert_exporter": "python",
   "pygments_lexer": "ipython3",
   "version": "3.12.4"
  }
 },
 "nbformat": 4,
 "nbformat_minor": 2
}
