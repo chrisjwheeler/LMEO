{
 "cells": [
  {
   "cell_type": "markdown",
   "metadata": {},
   "source": [
    "### Creating function which are needed.\n",
    "\n",
    "- Function to find all which meet condition, first and second but also specifiy the place.\n",
    "- Some form of way to print the frequecy of each. This could just use the itertools."
   ]
  },
  {
   "cell_type": "code",
   "execution_count": 2,
   "metadata": {},
   "outputs": [],
   "source": [
    "from methods import LMEO, Static\n",
    "lm = LMEO()"
   ]
  },
  {
   "cell_type": "code",
   "execution_count": 3,
   "metadata": {},
   "outputs": [],
   "source": [
    "# Filter function.\n",
    "def filter_perm_in_pos(all_ranks, first_hotel_id, second_hotel_id, pos0 = 0):\n",
    "    '''This filters by a combo i, j or j, i starting at pos0'''\n",
    "    i, j = pos0, pos0 + 1\n",
    "    \n",
    "    def create_condition(hotel_id_obj, place):\n",
    "        if isinstance(hotel_id_obj, list):\n",
    "            return lambda rank: any([hotel_id in rank[place] for hotel_id in hotel_id_obj])\n",
    "        else:\n",
    "            return lambda rank: hotel_id_obj in rank[place]\n",
    "    \n",
    "    first_in_zero = create_condition(first_hotel_id, i)\n",
    "    second_in_one = create_condition(second_hotel_id, j)\n",
    "    \n",
    "    second_in_zero = create_condition(second_hotel_id, j)\n",
    "    first_in_one = create_condition(first_hotel_id, i)\n",
    "    \n",
    "    first_perm_list = []\n",
    "    second_perm_list = []\n",
    "    neither_perm_list = []\n",
    "\n",
    "    for rank in all_ranks:\n",
    "        # This logic could be better but I dont really care.\n",
    "        if first_in_zero(rank) and second_in_one(rank):\n",
    "            first_perm_list.append(rank)\n",
    "        elif second_in_zero(rank) and first_in_one(rank):\n",
    "            second_perm_list.append(rank)\n",
    "        else:\n",
    "            neither_perm_list.append(rank)\n",
    "\n",
    "    return first_perm_list, second_perm_list, neither_perm_list\n"
   ]
  },
  {
   "cell_type": "code",
   "execution_count": 4,
   "metadata": {},
   "outputs": [],
   "source": [
    "# This function will print the number of occurences for the combo in pos 0\n",
    "import itertools\n",
    "\n",
    "def count_perm_combos(rank_data, target_words, pos0, min = 50):\n",
    "    word_pair_combinations = list(itertools.combinations(target_words, 2))\n",
    "\n",
    "    for word1, word2 in word_pair_combinations:\n",
    "        first, second, _ = filter_perm_in_pos(rank_data, word1, word2, pos0)\n",
    "        if len(first) < 50 or len(second) < 50:\n",
    "            continue\n",
    "        print(word1, word2, len(first), len(second))\n"
   ]
  },
  {
   "cell_type": "markdown",
   "metadata": {},
   "source": [
    "### Loading the relevant data."
   ]
  },
  {
   "cell_type": "code",
   "execution_count": 5,
   "metadata": {},
   "outputs": [
    {
     "name": "stdout",
     "output_type": "stream",
     "text": [
      "Loading Previously Generated Ranks.\n"
     ]
    }
   ],
   "source": [
    "London3000 = lm.order_set('', 'Bristol1001', 0) # lazy because it has the load in it."
   ]
  },
  {
   "cell_type": "markdown",
   "metadata": {},
   "source": [
    "### The Experiment. \n",
    "\n",
    "We will first identifiy the"
   ]
  }
 ],
 "metadata": {
  "kernelspec": {
   "display_name": "Python 3",
   "language": "python",
   "name": "python3"
  },
  "language_info": {
   "codemirror_mode": {
    "name": "ipython",
    "version": 3
   },
   "file_extension": ".py",
   "mimetype": "text/x-python",
   "name": "python",
   "nbconvert_exporter": "python",
   "pygments_lexer": "ipython3",
   "version": "3.12.1"
  }
 },
 "nbformat": 4,
 "nbformat_minor": 2
}
